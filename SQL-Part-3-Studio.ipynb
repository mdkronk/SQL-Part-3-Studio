{
    "metadata": {
        "kernelspec": {
            "name": "SQL",
            "display_name": "SQL",
            "language": "sql"
        },
        "language_info": {
            "name": "sql",
            "version": ""
        },
        "extensions": {
            "azuredatastudio": {
                "version": 1,
                "views": []
            }
        }
    },
    "nbformat_minor": 2,
    "nbformat": 4,
    "cells": [
        {
            "cell_type": "markdown",
            "source": [
                "# SQL Part 3 Studio\n",
                "\n",
                "### Let's practice your SQL quering skills!  For each question, work along in the notebook adding your query and answering the questions. \n",
                "\n",
                "### **DataSet**\n",
                "\n",
                "### <span style=\"font-size: 14px; font-family: -apple-system, BlinkMacSystemFont, sans-serif;\">We will be using the Goodbooks-10k dataset from the exercises in the prep work.&nbsp; Feel free reference your previous notebooks.</span>\n",
                "\n",
                "- The dataset can be found here: [goodbooks-10k](https://www.kaggle.com/zygmunt/goodbooks-10k)\n",
                "- You can access the **BooksDB** in the Launchcode server.\n",
                "\n",
                "### **Business Issue**\n",
                "\n",
                "You are an employee at a small independet bookstore and you have been tasked to increase sales.  You decide to use the BooksDB to find books and themes to highlight in fun promotions throughout each month / season.  We will be starting with March and then you will have a chance to explore another month of your choosing.  We want to come up with a list of events/ promotions to run each month.  If you are looking for ideas to include in your promotions:\n",
                "\n",
                "- [https://www.calendarr.com/united-states/calendar-2022/](https://www.calendarr.com/united-states/calendar-2022/)\n",
                "- [https://www.holidayinsights.com/moreholidays/](https://www.holidayinsights.com/moreholidays/)\n",
                "    - Click on a month and it will take you to a more detailed page"
            ],
            "metadata": {
                "azdata_cell_guid": "b9034d8a-b631-48bf-a895-1012a6ffa784"
            },
            "attachments": {}
        },
        {
            "cell_type": "markdown",
            "source": [
                "## Part 1:  March - Women's History Month, Dr Seuss Day(3/2), National Pie Day3/14, St Patrick's Day (3/17), Season - Spring"
            ],
            "metadata": {
                "azdata_cell_guid": "6e55eb1c-4a14-4076-90d2-95ed17a6309f"
            },
            "attachments": {}
        },
        {
            "cell_type": "markdown",
            "source": [
                "### **Event 1:** Women's History Month\n",
                "\n",
                "Goal: Highlight Popular Womans Authors based on ratings from the Good Reads DB.\n",
                "\n",
                "### **Write a query that returns tag\\_id, the number of times each tag\\_id is used and the tag\\_name.**  \n",
                "\n",
                "### Use the GROUP BY and HAVING clause to narrow your focus.\n",
                "\n",
                "Try multiple keywords, ie woman vs female (female ended up giving better results)"
            ],
            "metadata": {
                "azdata_cell_guid": "d220c097-e9cf-4edd-9abe-312d071217b7"
            },
            "attachments": {}
        },
        {
            "cell_type": "code",
            "source": [
                "-- Solution\r\n",
                "select bt.tag_id, t.tag_name, sum(bt.count) as tag_count\r\n",
                "from BooksDB.dbo.book_tags AS bt\r\n",
                "inner join BooksDB.dbo.tags as t\r\n",
                "on t.tag_id = bt.tag_id\r\n",
                "where t.tag_name like '%female%'\r\n",
                "group by bt.tag_id, t.tag_name\r\n",
                "having sum(bt.[count]) > 50\r\n",
                "order by sum(bt.[count]) desc\r\n",
                ""
            ],
            "metadata": {
                "azdata_cell_guid": "e31b9d26-0386-44c7-828e-85f4f06f3ee6",
                "language": "sql",
                "tags": []
            },
            "outputs": [
                {
                    "output_type": "display_data",
                    "data": {
                        "text/html": "(10 rows affected)"
                    },
                    "metadata": {}
                },
                {
                    "output_type": "display_data",
                    "data": {
                        "text/html": "Total execution time: 00:00:00.161"
                    },
                    "metadata": {}
                },
                {
                    "output_type": "execute_result",
                    "metadata": {},
                    "execution_count": 15,
                    "data": {
                        "application/vnd.dataresource+json": {
                            "schema": {
                                "fields": [
                                    {
                                        "name": "tag_id"
                                    },
                                    {
                                        "name": "tag_name"
                                    },
                                    {
                                        "name": "tag_count"
                                    }
                                ]
                            },
                            "data": [
                                {
                                    "0": "11643",
                                    "1": "female-author",
                                    "2": "17999"
                                },
                                {
                                    "0": "11644",
                                    "1": "female-authors",
                                    "2": "13690"
                                },
                                {
                                    "0": "11658",
                                    "1": "female-protagonist",
                                    "2": "2554"
                                },
                                {
                                    "0": "11646",
                                    "1": "female-detective",
                                    "2": "302"
                                },
                                {
                                    "0": "11656",
                                    "1": "female-pov",
                                    "2": "155"
                                },
                                {
                                    "0": "11662",
                                    "1": "female-writers",
                                    "2": "147"
                                },
                                {
                                    "0": "11642",
                                    "1": "female",
                                    "2": "133"
                                },
                                {
                                    "0": "11652",
                                    "1": "female-lead",
                                    "2": "61"
                                },
                                {
                                    "0": "28834",
                                    "1": "strong-female-lead",
                                    "2": "61"
                                },
                                {
                                    "0": "11647",
                                    "1": "female-detectives",
                                    "2": "59"
                                }
                            ]
                        },
                        "text/html": [
                            "<table>",
                            "<tr><th>tag_id</th><th>tag_name</th><th>tag_count</th></tr>",
                            "<tr><td>11643</td><td>female-author</td><td>17999</td></tr>",
                            "<tr><td>11644</td><td>female-authors</td><td>13690</td></tr>",
                            "<tr><td>11658</td><td>female-protagonist</td><td>2554</td></tr>",
                            "<tr><td>11646</td><td>female-detective</td><td>302</td></tr>",
                            "<tr><td>11656</td><td>female-pov</td><td>155</td></tr>",
                            "<tr><td>11662</td><td>female-writers</td><td>147</td></tr>",
                            "<tr><td>11642</td><td>female</td><td>133</td></tr>",
                            "<tr><td>11652</td><td>female-lead</td><td>61</td></tr>",
                            "<tr><td>28834</td><td>strong-female-lead</td><td>61</td></tr>",
                            "<tr><td>11647</td><td>female-detectives</td><td>59</td></tr>",
                            "</table>"
                        ]
                    }
                }
            ],
            "execution_count": 15
        },
        {
            "cell_type": "code",
            "source": [
                "select b.authors, avg(r.rating) as ave_rating\r\n",
                "from BooksDB.dbo.book_tags AS bt\r\n",
                "join BooksDB.dbo.books as b\r\n",
                "on bt.goodreads_book_id = b.book_id\r\n",
                "join BooksDB.dbo.ratings as r\r\n",
                "on b.book_id = r.book_id\r\n",
                "where bt.tag_id = 11643\r\n",
                "group by b.authors\r\n",
                "order by avg(r.rating) desc"
            ],
            "metadata": {
                "azdata_cell_guid": "2026a6d7-bb05-4c66-aca7-d473e8060f33",
                "language": "sql"
            },
            "outputs": [
                {
                    "output_type": "display_data",
                    "data": {
                        "text/html": "(77 rows affected)"
                    },
                    "metadata": {}
                },
                {
                    "output_type": "display_data",
                    "data": {
                        "text/html": "Total execution time: 00:00:00.488"
                    },
                    "metadata": {}
                },
                {
                    "output_type": "execute_result",
                    "metadata": {},
                    "execution_count": 25,
                    "data": {
                        "application/vnd.dataresource+json": {
                            "schema": {
                                "fields": [
                                    {
                                        "name": "authors"
                                    },
                                    {
                                        "name": "ave_rating"
                                    }
                                ]
                            },
                            "data": [
                                {
                                    "0": "Zadie Smith",
                                    "1": "4"
                                },
                                {
                                    "0": "Tracy Chevalier",
                                    "1": "4"
                                },
                                {
                                    "0": "Toni Morrison",
                                    "1": "4"
                                },
                                {
                                    "0": "Sarah Vowell",
                                    "1": "4"
                                },
                                {
                                    "0": "Robin McKinley",
                                    "1": "4"
                                },
                                {
                                    "0": "Åsne Seierstad, Ingrid Christopherson",
                                    "1": "4"
                                },
                                {
                                    "0": "Rebecca Wells",
                                    "1": "4"
                                },
                                {
                                    "0": "Karen Armstrong",
                                    "1": "4"
                                },
                                {
                                    "0": "Barbara Ehrenreich",
                                    "1": "4"
                                },
                                {
                                    "0": "Pat Barker",
                                    "1": "4"
                                },
                                {
                                    "0": "Joyce Carol Oates",
                                    "1": "4"
                                },
                                {
                                    "0": "Candace Bushnell",
                                    "1": "4"
                                },
                                {
                                    "0": "Christina Schwarz",
                                    "1": "4"
                                },
                                {
                                    "0": "Johanna Spyri, Angelo  Rinaldi, Beverly Cleary",
                                    "1": "4"
                                },
                                {
                                    "0": "Dava Sobel, Neil Armstrong",
                                    "1": "4"
                                },
                                {
                                    "0": "Jhumpa Lahiri",
                                    "1": "4"
                                },
                                {
                                    "0": "Emily Brontë, Richard J. Dunn",
                                    "1": "4"
                                },
                                {
                                    "0": "Marjane Satrapi",
                                    "1": "4"
                                },
                                {
                                    "0": "Marisha Pessl",
                                    "1": "4"
                                },
                                {
                                    "0": "Marian Keyes",
                                    "1": "4"
                                },
                                {
                                    "0": "Loung Ung",
                                    "1": "4"
                                },
                                {
                                    "0": "J.K. Rowling, Mary GrandPré",
                                    "1": "4"
                                },
                                {
                                    "0": "Kathleen Winsor",
                                    "1": "3"
                                },
                                {
                                    "0": "L.M. Montgomery",
                                    "1": "3"
                                },
                                {
                                    "0": "Laura Ingalls Wilder, Garth Williams",
                                    "1": "3"
                                },
                                {
                                    "0": "Lauren Weisberger",
                                    "1": "3"
                                },
                                {
                                    "0": "Lisa See",
                                    "1": "3"
                                },
                                {
                                    "0": "Lois Lowry",
                                    "1": "3"
                                },
                                {
                                    "0": "Lorraine Hansberry",
                                    "1": "3"
                                },
                                {
                                    "0": "Lynne Truss",
                                    "1": "3"
                                },
                                {
                                    "0": "Maeve Binchy",
                                    "1": "3"
                                },
                                {
                                    "0": "Margaret Weis, Tracy Hickman",
                                    "1": "3"
                                },
                                {
                                    "0": "Marguerite Duras, Barbara Bray, Maxine Hong Kingston",
                                    "1": "3"
                                },
                                {
                                    "0": "Marjane Satrapi, Anjali Singh",
                                    "1": "3"
                                },
                                {
                                    "0": "Marjane Satrapi, Mattias Ripa",
                                    "1": "3"
                                },
                                {
                                    "0": "Mary Lawson",
                                    "1": "3"
                                },
                                {
                                    "0": "Maud Hart Lovelace, Lois Lenski",
                                    "1": "3"
                                },
                                {
                                    "0": "Naomi Klein",
                                    "1": "3"
                                },
                                {
                                    "0": "Nicole Krauss",
                                    "1": "3"
                                },
                                {
                                    "0": "Nora Ephron",
                                    "1": "3"
                                },
                                {
                                    "0": "P.D. James",
                                    "1": "3"
                                },
                                {
                                    "0": "Patricia Cornwell",
                                    "1": "3"
                                },
                                {
                                    "0": "Pearl S. Buck",
                                    "1": "3"
                                },
                                {
                                    "0": "Sena Jeter Naslund",
                                    "1": "3"
                                },
                                {
                                    "0": "Karen Joy Fowler",
                                    "1": "3"
                                },
                                {
                                    "0": "Jung Chang",
                                    "1": "3"
                                },
                                {
                                    "0": "Joan Didion, David Thomson",
                                    "1": "3"
                                },
                                {
                                    "0": "Joan Didion",
                                    "1": "3"
                                },
                                {
                                    "0": "Jenna Jameson, Neil Strauss",
                                    "1": "3"
                                },
                                {
                                    "0": "Jean M. Auel",
                                    "1": "3"
                                },
                                {
                                    "0": "Jane Austen, James Kinsley, Deidre Shauna Lynch",
                                    "1": "3"
                                },
                                {
                                    "0": "Jane Austen, Fiona Stafford",
                                    "1": "3"
                                },
                                {
                                    "0": "Jacqueline Winspear",
                                    "1": "3"
                                },
                                {
                                    "0": "J.K. Rowling",
                                    "1": "3"
                                },
                                {
                                    "0": "Isabel Allende, Margaret Sayers Peden",
                                    "1": "3"
                                },
                                {
                                    "0": "Isabel Allende, Magda Bogin",
                                    "1": "3"
                                },
                                {
                                    "0": "Helen Fielding",
                                    "1": "3"
                                },
                                {
                                    "0": "Geraldine Brooks",
                                    "1": "3"
                                },
                                {
                                    "0": "George Eliot, Edmund White",
                                    "1": "3"
                                },
                                {
                                    "0": "Fannie Flagg",
                                    "1": "3"
                                },
                                {
                                    "0": "Erica Jong",
                                    "1": "3"
                                },
                                {
                                    "0": "Edwidge Danticat",
                                    "1": "3"
                                },
                                {
                                    "0": "Edith Wharton",
                                    "1": "3"
                                },
                                {
                                    "0": "Diana Wynne Jones",
                                    "1": "3"
                                },
                                {
                                    "0": "Curtis Sittenfeld",
                                    "1": "3"
                                },
                                {
                                    "0": "Claire Messud",
                                    "1": "3"
                                },
                                {
                                    "0": "Byron Katie, Stephen Mitchell",
                                    "1": "3"
                                },
                                {
                                    "0": "Barbara Kingsolver",
                                    "1": "3"
                                },
                                {
                                    "0": "Azar Nafisi",
                                    "1": "3"
                                },
                                {
                                    "0": "Ayn Rand, Leonard Peikoff",
                                    "1": "3"
                                },
                                {
                                    "0": "Ayn Rand",
                                    "1": "3"
                                },
                                {
                                    "0": "Arundhati Roy",
                                    "1": "3"
                                },
                                {
                                    "0": "Annie Proulx",
                                    "1": "3"
                                },
                                {
                                    "0": "Anita Diamant",
                                    "1": "3"
                                },
                                {
                                    "0": "Amy Tan",
                                    "1": "3"
                                },
                                {
                                    "0": "Amy Sedaris",
                                    "1": "3"
                                },
                                {
                                    "0": "Alice  Miller, Ruth Ward",
                                    "1": "3"
                                }
                            ]
                        },
                        "text/html": [
                            "<table>",
                            "<tr><th>authors</th><th>ave_rating</th></tr>",
                            "<tr><td>Zadie Smith</td><td>4</td></tr>",
                            "<tr><td>Tracy Chevalier</td><td>4</td></tr>",
                            "<tr><td>Toni Morrison</td><td>4</td></tr>",
                            "<tr><td>Sarah Vowell</td><td>4</td></tr>",
                            "<tr><td>Robin McKinley</td><td>4</td></tr>",
                            "<tr><td>Åsne Seierstad, Ingrid Christopherson</td><td>4</td></tr>",
                            "<tr><td>Rebecca Wells</td><td>4</td></tr>",
                            "<tr><td>Karen Armstrong</td><td>4</td></tr>",
                            "<tr><td>Barbara Ehrenreich</td><td>4</td></tr>",
                            "<tr><td>Pat Barker</td><td>4</td></tr>",
                            "<tr><td>Joyce Carol Oates</td><td>4</td></tr>",
                            "<tr><td>Candace Bushnell</td><td>4</td></tr>",
                            "<tr><td>Christina Schwarz</td><td>4</td></tr>",
                            "<tr><td>Johanna Spyri, Angelo  Rinaldi, Beverly Cleary</td><td>4</td></tr>",
                            "<tr><td>Dava Sobel, Neil Armstrong</td><td>4</td></tr>",
                            "<tr><td>Jhumpa Lahiri</td><td>4</td></tr>",
                            "<tr><td>Emily Brontë, Richard J. Dunn</td><td>4</td></tr>",
                            "<tr><td>Marjane Satrapi</td><td>4</td></tr>",
                            "<tr><td>Marisha Pessl</td><td>4</td></tr>",
                            "<tr><td>Marian Keyes</td><td>4</td></tr>",
                            "<tr><td>Loung Ung</td><td>4</td></tr>",
                            "<tr><td>J.K. Rowling, Mary GrandPré</td><td>4</td></tr>",
                            "<tr><td>Kathleen Winsor</td><td>3</td></tr>",
                            "<tr><td>L.M. Montgomery</td><td>3</td></tr>",
                            "<tr><td>Laura Ingalls Wilder, Garth Williams</td><td>3</td></tr>",
                            "<tr><td>Lauren Weisberger</td><td>3</td></tr>",
                            "<tr><td>Lisa See</td><td>3</td></tr>",
                            "<tr><td>Lois Lowry</td><td>3</td></tr>",
                            "<tr><td>Lorraine Hansberry</td><td>3</td></tr>",
                            "<tr><td>Lynne Truss</td><td>3</td></tr>",
                            "<tr><td>Maeve Binchy</td><td>3</td></tr>",
                            "<tr><td>Margaret Weis, Tracy Hickman</td><td>3</td></tr>",
                            "<tr><td>Marguerite Duras, Barbara Bray, Maxine Hong Kingston</td><td>3</td></tr>",
                            "<tr><td>Marjane Satrapi, Anjali Singh</td><td>3</td></tr>",
                            "<tr><td>Marjane Satrapi, Mattias Ripa</td><td>3</td></tr>",
                            "<tr><td>Mary Lawson</td><td>3</td></tr>",
                            "<tr><td>Maud Hart Lovelace, Lois Lenski</td><td>3</td></tr>",
                            "<tr><td>Naomi Klein</td><td>3</td></tr>",
                            "<tr><td>Nicole Krauss</td><td>3</td></tr>",
                            "<tr><td>Nora Ephron</td><td>3</td></tr>",
                            "<tr><td>P.D. James</td><td>3</td></tr>",
                            "<tr><td>Patricia Cornwell</td><td>3</td></tr>",
                            "<tr><td>Pearl S. Buck</td><td>3</td></tr>",
                            "<tr><td>Sena Jeter Naslund</td><td>3</td></tr>",
                            "<tr><td>Karen Joy Fowler</td><td>3</td></tr>",
                            "<tr><td>Jung Chang</td><td>3</td></tr>",
                            "<tr><td>Joan Didion, David Thomson</td><td>3</td></tr>",
                            "<tr><td>Joan Didion</td><td>3</td></tr>",
                            "<tr><td>Jenna Jameson, Neil Strauss</td><td>3</td></tr>",
                            "<tr><td>Jean M. Auel</td><td>3</td></tr>",
                            "<tr><td>Jane Austen, James Kinsley, Deidre Shauna Lynch</td><td>3</td></tr>",
                            "<tr><td>Jane Austen, Fiona Stafford</td><td>3</td></tr>",
                            "<tr><td>Jacqueline Winspear</td><td>3</td></tr>",
                            "<tr><td>J.K. Rowling</td><td>3</td></tr>",
                            "<tr><td>Isabel Allende, Margaret Sayers Peden</td><td>3</td></tr>",
                            "<tr><td>Isabel Allende, Magda Bogin</td><td>3</td></tr>",
                            "<tr><td>Helen Fielding</td><td>3</td></tr>",
                            "<tr><td>Geraldine Brooks</td><td>3</td></tr>",
                            "<tr><td>George Eliot, Edmund White</td><td>3</td></tr>",
                            "<tr><td>Fannie Flagg</td><td>3</td></tr>",
                            "<tr><td>Erica Jong</td><td>3</td></tr>",
                            "<tr><td>Edwidge Danticat</td><td>3</td></tr>",
                            "<tr><td>Edith Wharton</td><td>3</td></tr>",
                            "<tr><td>Diana Wynne Jones</td><td>3</td></tr>",
                            "<tr><td>Curtis Sittenfeld</td><td>3</td></tr>",
                            "<tr><td>Claire Messud</td><td>3</td></tr>",
                            "<tr><td>Byron Katie, Stephen Mitchell</td><td>3</td></tr>",
                            "<tr><td>Barbara Kingsolver</td><td>3</td></tr>",
                            "<tr><td>Azar Nafisi</td><td>3</td></tr>",
                            "<tr><td>Ayn Rand, Leonard Peikoff</td><td>3</td></tr>",
                            "<tr><td>Ayn Rand</td><td>3</td></tr>",
                            "<tr><td>Arundhati Roy</td><td>3</td></tr>",
                            "<tr><td>Annie Proulx</td><td>3</td></tr>",
                            "<tr><td>Anita Diamant</td><td>3</td></tr>",
                            "<tr><td>Amy Tan</td><td>3</td></tr>",
                            "<tr><td>Amy Sedaris</td><td>3</td></tr>",
                            "<tr><td>Alice  Miller, Ruth Ward</td><td>3</td></tr>",
                            "</table>"
                        ]
                    }
                }
            ],
            "execution_count": 25
        },
        {
            "cell_type": "markdown",
            "source": [
                "### **Which keyword(s) and tag(s) would you like to explore more?**\n",
                "\n",
                "Double click to edit."
            ],
            "metadata": {
                "azdata_cell_guid": "e9acd8b5-a62b-4ac0-bd07-19915b379ba6"
            },
            "attachments": {}
        },
        {
            "cell_type": "markdown",
            "source": [
                "### **Write a query to return authors, titles, ratings and** **selected tag(s)\\_id.**"
            ],
            "metadata": {
                "azdata_cell_guid": "59b84464-c0bc-4dac-9e02-0c803765b063"
            },
            "attachments": {}
        },
        {
            "cell_type": "code",
            "source": [
                "-- Solution\r\n",
                "select distinct b.authors, b.original_title, r.rating, bt.tag_id\r\n",
                "from BooksDB.dbo.books as b \r\n",
                "join BooksDB.dbo.ratings as r \r\n",
                "on b.book_id = r.book_id\r\n",
                "join BooksDB.dbo.book_tags as bt \r\n",
                "on bt.goodreads_book_id = b.book_id\r\n",
                "where tag_id = 11643"
            ],
            "metadata": {
                "azdata_cell_guid": "51ffeaaf-6dde-4906-95f3-eb8757babf27",
                "tags": [],
                "language": "sql"
            },
            "outputs": [
                {
                    "output_type": "display_data",
                    "data": {
                        "text/html": "(456 rows affected)"
                    },
                    "metadata": {}
                },
                {
                    "output_type": "display_data",
                    "data": {
                        "text/html": "Total execution time: 00:00:00.577"
                    },
                    "metadata": {}
                },
                {
                    "output_type": "execute_result",
                    "metadata": {},
                    "execution_count": 31,
                    "data": {
                        "application/vnd.dataresource+json": {
                            "schema": {
                                "fields": [
                                    {
                                        "name": "authors"
                                    },
                                    {
                                        "name": "original_title"
                                    },
                                    {
                                        "name": "rating"
                                    },
                                    {
                                        "name": "tag_id"
                                    }
                                ]
                            },
                            "data": [
                                {
                                    "0": "Alice  Miller, Ruth Ward",
                                    "1": "Das Drama des begabten Kindes und die Suche nach dem wahren Selbst: eine Um- und Fortschreibung",
                                    "2": "2",
                                    "3": "11643"
                                },
                                {
                                    "0": "Alice  Miller, Ruth Ward",
                                    "1": "Das Drama des begabten Kindes und die Suche nach dem wahren Selbst: eine Um- und Fortschreibung",
                                    "2": "3",
                                    "3": "11643"
                                },
                                {
                                    "0": "Alice  Miller, Ruth Ward",
                                    "1": "Das Drama des begabten Kindes und die Suche nach dem wahren Selbst: eine Um- und Fortschreibung",
                                    "2": "4",
                                    "3": "11643"
                                },
                                {
                                    "0": "Alice  Miller, Ruth Ward",
                                    "1": "Das Drama des begabten Kindes und die Suche nach dem wahren Selbst: eine Um- und Fortschreibung",
                                    "2": "5",
                                    "3": "11643"
                                },
                                {
                                    "0": "Amy Sedaris",
                                    "1": "I Like You: Hospitality Under the Influence",
                                    "2": "1",
                                    "3": "11643"
                                },
                                {
                                    "0": "Amy Sedaris",
                                    "1": "I Like You: Hospitality Under the Influence",
                                    "2": "2",
                                    "3": "11643"
                                },
                                {
                                    "0": "Amy Sedaris",
                                    "1": "I Like You: Hospitality Under the Influence",
                                    "2": "3",
                                    "3": "11643"
                                },
                                {
                                    "0": "Amy Sedaris",
                                    "1": "I Like You: Hospitality Under the Influence",
                                    "2": "4",
                                    "3": "11643"
                                },
                                {
                                    "0": "Amy Sedaris",
                                    "1": "I Like You: Hospitality Under the Influence",
                                    "2": "5",
                                    "3": "11643"
                                },
                                {
                                    "0": "Amy Tan",
                                    "1": "The Joy Luck Club",
                                    "2": "1",
                                    "3": "11643"
                                },
                                {
                                    "0": "Amy Tan",
                                    "1": "The Joy Luck Club",
                                    "2": "2",
                                    "3": "11643"
                                },
                                {
                                    "0": "Amy Tan",
                                    "1": "The Joy Luck Club",
                                    "2": "3",
                                    "3": "11643"
                                },
                                {
                                    "0": "Amy Tan",
                                    "1": "The Joy Luck Club",
                                    "2": "4",
                                    "3": "11643"
                                },
                                {
                                    "0": "Amy Tan",
                                    "1": "The Joy Luck Club",
                                    "2": "5",
                                    "3": "11643"
                                },
                                {
                                    "0": "Anita Diamant",
                                    "1": "The Red Tent",
                                    "2": "1",
                                    "3": "11643"
                                },
                                {
                                    "0": "Anita Diamant",
                                    "1": "The Red Tent",
                                    "2": "2",
                                    "3": "11643"
                                },
                                {
                                    "0": "Anita Diamant",
                                    "1": "The Red Tent",
                                    "2": "3",
                                    "3": "11643"
                                },
                                {
                                    "0": "Anita Diamant",
                                    "1": "The Red Tent",
                                    "2": "4",
                                    "3": "11643"
                                },
                                {
                                    "0": "Anita Diamant",
                                    "1": "The Red Tent",
                                    "2": "5",
                                    "3": "11643"
                                },
                                {
                                    "0": "Annie Proulx",
                                    "1": "Brokeback Mountain",
                                    "2": "1",
                                    "3": "11643"
                                },
                                {
                                    "0": "Annie Proulx",
                                    "1": "Brokeback Mountain",
                                    "2": "2",
                                    "3": "11643"
                                },
                                {
                                    "0": "Annie Proulx",
                                    "1": "Brokeback Mountain",
                                    "2": "3",
                                    "3": "11643"
                                },
                                {
                                    "0": "Annie Proulx",
                                    "1": "Brokeback Mountain",
                                    "2": "4",
                                    "3": "11643"
                                },
                                {
                                    "0": "Annie Proulx",
                                    "1": "Brokeback Mountain",
                                    "2": "5",
                                    "3": "11643"
                                },
                                {
                                    "0": "Annie Proulx",
                                    "1": "The Shipping News",
                                    "2": "2",
                                    "3": "11643"
                                },
                                {
                                    "0": "Annie Proulx",
                                    "1": "The Shipping News",
                                    "2": "3",
                                    "3": "11643"
                                },
                                {
                                    "0": "Annie Proulx",
                                    "1": "The Shipping News",
                                    "2": "4",
                                    "3": "11643"
                                },
                                {
                                    "0": "Annie Proulx",
                                    "1": "The Shipping News",
                                    "2": "5",
                                    "3": "11643"
                                },
                                {
                                    "0": "Arundhati Roy",
                                    "1": "The God of Small Things",
                                    "2": "1",
                                    "3": "11643"
                                },
                                {
                                    "0": "Arundhati Roy",
                                    "1": "The God of Small Things",
                                    "2": "2",
                                    "3": "11643"
                                },
                                {
                                    "0": "Arundhati Roy",
                                    "1": "The God of Small Things",
                                    "2": "3",
                                    "3": "11643"
                                },
                                {
                                    "0": "Arundhati Roy",
                                    "1": "The God of Small Things",
                                    "2": "4",
                                    "3": "11643"
                                },
                                {
                                    "0": "Arundhati Roy",
                                    "1": "The God of Small Things",
                                    "2": "5",
                                    "3": "11643"
                                },
                                {
                                    "0": "Åsne Seierstad, Ingrid Christopherson",
                                    "1": "Bokhandleren i Kabul",
                                    "2": "2",
                                    "3": "11643"
                                },
                                {
                                    "0": "Åsne Seierstad, Ingrid Christopherson",
                                    "1": "Bokhandleren i Kabul",
                                    "2": "3",
                                    "3": "11643"
                                },
                                {
                                    "0": "Åsne Seierstad, Ingrid Christopherson",
                                    "1": "Bokhandleren i Kabul",
                                    "2": "4",
                                    "3": "11643"
                                },
                                {
                                    "0": "Åsne Seierstad, Ingrid Christopherson",
                                    "1": "Bokhandleren i Kabul",
                                    "2": "5",
                                    "3": "11643"
                                },
                                {
                                    "0": "Ayn Rand",
                                    "1": "Anthem",
                                    "2": "1",
                                    "3": "11643"
                                },
                                {
                                    "0": "Ayn Rand",
                                    "1": "Anthem",
                                    "2": "2",
                                    "3": "11643"
                                },
                                {
                                    "0": "Ayn Rand",
                                    "1": "Anthem",
                                    "2": "3",
                                    "3": "11643"
                                },
                                {
                                    "0": "Ayn Rand",
                                    "1": "Anthem",
                                    "2": "4",
                                    "3": "11643"
                                },
                                {
                                    "0": "Ayn Rand",
                                    "1": "Anthem",
                                    "2": "5",
                                    "3": "11643"
                                },
                                {
                                    "0": "Ayn Rand, Leonard Peikoff",
                                    "1": "We the Living",
                                    "2": "1",
                                    "3": "11643"
                                },
                                {
                                    "0": "Ayn Rand, Leonard Peikoff",
                                    "1": "We the Living",
                                    "2": "2",
                                    "3": "11643"
                                },
                                {
                                    "0": "Ayn Rand, Leonard Peikoff",
                                    "1": "We the Living",
                                    "2": "3",
                                    "3": "11643"
                                },
                                {
                                    "0": "Ayn Rand, Leonard Peikoff",
                                    "1": "We the Living",
                                    "2": "4",
                                    "3": "11643"
                                },
                                {
                                    "0": "Ayn Rand, Leonard Peikoff",
                                    "1": "We the Living",
                                    "2": "5",
                                    "3": "11643"
                                },
                                {
                                    "0": "Azar Nafisi",
                                    "1": "Reading Lolita in Tehran: A Memoir in Books",
                                    "2": "1",
                                    "3": "11643"
                                },
                                {
                                    "0": "Azar Nafisi",
                                    "1": "Reading Lolita in Tehran: A Memoir in Books",
                                    "2": "2",
                                    "3": "11643"
                                },
                                {
                                    "0": "Azar Nafisi",
                                    "1": "Reading Lolita in Tehran: A Memoir in Books",
                                    "2": "3",
                                    "3": "11643"
                                },
                                {
                                    "0": "Azar Nafisi",
                                    "1": "Reading Lolita in Tehran: A Memoir in Books",
                                    "2": "4",
                                    "3": "11643"
                                },
                                {
                                    "0": "Azar Nafisi",
                                    "1": "Reading Lolita in Tehran: A Memoir in Books",
                                    "2": "5",
                                    "3": "11643"
                                },
                                {
                                    "0": "Barbara Ehrenreich",
                                    "1": "Nickel and Dimed: On (Not) Getting By in America",
                                    "2": "1",
                                    "3": "11643"
                                },
                                {
                                    "0": "Barbara Ehrenreich",
                                    "1": "Nickel and Dimed: On (Not) Getting By in America",
                                    "2": "2",
                                    "3": "11643"
                                },
                                {
                                    "0": "Barbara Ehrenreich",
                                    "1": "Nickel and Dimed: On (Not) Getting By in America",
                                    "2": "3",
                                    "3": "11643"
                                },
                                {
                                    "0": "Barbara Ehrenreich",
                                    "1": "Nickel and Dimed: On (Not) Getting By in America",
                                    "2": "4",
                                    "3": "11643"
                                },
                                {
                                    "0": "Barbara Ehrenreich",
                                    "1": "Nickel and Dimed: On (Not) Getting By in America",
                                    "2": "5",
                                    "3": "11643"
                                },
                                {
                                    "0": "Barbara Kingsolver",
                                    "1": "The Poisonwood Bible",
                                    "2": "1",
                                    "3": "11643"
                                },
                                {
                                    "0": "Barbara Kingsolver",
                                    "1": "The Poisonwood Bible",
                                    "2": "2",
                                    "3": "11643"
                                },
                                {
                                    "0": "Barbara Kingsolver",
                                    "1": "The Poisonwood Bible",
                                    "2": "3",
                                    "3": "11643"
                                },
                                {
                                    "0": "Barbara Kingsolver",
                                    "1": "The Poisonwood Bible",
                                    "2": "4",
                                    "3": "11643"
                                },
                                {
                                    "0": "Barbara Kingsolver",
                                    "1": "The Poisonwood Bible",
                                    "2": "5",
                                    "3": "11643"
                                },
                                {
                                    "0": "Byron Katie, Stephen Mitchell",
                                    "1": "Loving What Is: Four Questions That Can Change Your Life",
                                    "2": "1",
                                    "3": "11643"
                                },
                                {
                                    "0": "Byron Katie, Stephen Mitchell",
                                    "1": "Loving What Is: Four Questions That Can Change Your Life",
                                    "2": "2",
                                    "3": "11643"
                                },
                                {
                                    "0": "Byron Katie, Stephen Mitchell",
                                    "1": "Loving What Is: Four Questions That Can Change Your Life",
                                    "2": "3",
                                    "3": "11643"
                                },
                                {
                                    "0": "Byron Katie, Stephen Mitchell",
                                    "1": "Loving What Is: Four Questions That Can Change Your Life",
                                    "2": "4",
                                    "3": "11643"
                                },
                                {
                                    "0": "Byron Katie, Stephen Mitchell",
                                    "1": "Loving What Is: Four Questions That Can Change Your Life",
                                    "2": "5",
                                    "3": "11643"
                                },
                                {
                                    "0": "Candace Bushnell",
                                    "1": "Four Blondes",
                                    "2": "1",
                                    "3": "11643"
                                },
                                {
                                    "0": "Candace Bushnell",
                                    "1": "Four Blondes",
                                    "2": "2",
                                    "3": "11643"
                                },
                                {
                                    "0": "Candace Bushnell",
                                    "1": "Four Blondes",
                                    "2": "3",
                                    "3": "11643"
                                },
                                {
                                    "0": "Candace Bushnell",
                                    "1": "Four Blondes",
                                    "2": "4",
                                    "3": "11643"
                                },
                                {
                                    "0": "Candace Bushnell",
                                    "1": "Four Blondes",
                                    "2": "5",
                                    "3": "11643"
                                },
                                {
                                    "0": "Candace Bushnell",
                                    "1": "Sex and the City",
                                    "2": "1",
                                    "3": "11643"
                                },
                                {
                                    "0": "Candace Bushnell",
                                    "1": "Sex and the City",
                                    "2": "3",
                                    "3": "11643"
                                },
                                {
                                    "0": "Candace Bushnell",
                                    "1": "Sex and the City",
                                    "2": "4",
                                    "3": "11643"
                                },
                                {
                                    "0": "Candace Bushnell",
                                    "1": "Sex and the City",
                                    "2": "5",
                                    "3": "11643"
                                },
                                {
                                    "0": "Christina Schwarz",
                                    "1": "Drowning Ruth",
                                    "2": "2",
                                    "3": "11643"
                                },
                                {
                                    "0": "Christina Schwarz",
                                    "1": "Drowning Ruth",
                                    "2": "3",
                                    "3": "11643"
                                },
                                {
                                    "0": "Christina Schwarz",
                                    "1": "Drowning Ruth",
                                    "2": "4",
                                    "3": "11643"
                                },
                                {
                                    "0": "Christina Schwarz",
                                    "1": "Drowning Ruth",
                                    "2": "5",
                                    "3": "11643"
                                },
                                {
                                    "0": "Claire Messud",
                                    "1": "The Emperor's Children",
                                    "2": "1",
                                    "3": "11643"
                                },
                                {
                                    "0": "Claire Messud",
                                    "1": "The Emperor's Children",
                                    "2": "2",
                                    "3": "11643"
                                },
                                {
                                    "0": "Claire Messud",
                                    "1": "The Emperor's Children",
                                    "2": "3",
                                    "3": "11643"
                                },
                                {
                                    "0": "Claire Messud",
                                    "1": "The Emperor's Children",
                                    "2": "4",
                                    "3": "11643"
                                },
                                {
                                    "0": "Claire Messud",
                                    "1": "The Emperor's Children",
                                    "2": "5",
                                    "3": "11643"
                                },
                                {
                                    "0": "Curtis Sittenfeld",
                                    "1": "Prep",
                                    "2": "1",
                                    "3": "11643"
                                },
                                {
                                    "0": "Curtis Sittenfeld",
                                    "1": "Prep",
                                    "2": "2",
                                    "3": "11643"
                                },
                                {
                                    "0": "Curtis Sittenfeld",
                                    "1": "Prep",
                                    "2": "3",
                                    "3": "11643"
                                },
                                {
                                    "0": "Curtis Sittenfeld",
                                    "1": "Prep",
                                    "2": "4",
                                    "3": "11643"
                                },
                                {
                                    "0": "Curtis Sittenfeld",
                                    "1": "Prep",
                                    "2": "5",
                                    "3": "11643"
                                },
                                {
                                    "0": "Dava Sobel, Neil Armstrong",
                                    "1": "Longitude",
                                    "2": "3",
                                    "3": "11643"
                                },
                                {
                                    "0": "Dava Sobel, Neil Armstrong",
                                    "1": "Longitude",
                                    "2": "4",
                                    "3": "11643"
                                },
                                {
                                    "0": "Dava Sobel, Neil Armstrong",
                                    "1": "Longitude",
                                    "2": "5",
                                    "3": "11643"
                                },
                                {
                                    "0": "Diana Wynne Jones",
                                    "1": "Howl's Moving Castle",
                                    "2": "1",
                                    "3": "11643"
                                },
                                {
                                    "0": "Diana Wynne Jones",
                                    "1": "Howl's Moving Castle",
                                    "2": "2",
                                    "3": "11643"
                                },
                                {
                                    "0": "Diana Wynne Jones",
                                    "1": "Howl's Moving Castle",
                                    "2": "3",
                                    "3": "11643"
                                },
                                {
                                    "0": "Diana Wynne Jones",
                                    "1": "Howl's Moving Castle",
                                    "2": "4",
                                    "3": "11643"
                                },
                                {
                                    "0": "Diana Wynne Jones",
                                    "1": "Howl's Moving Castle",
                                    "2": "5",
                                    "3": "11643"
                                },
                                {
                                    "0": "Edith Wharton",
                                    "1": "Ethan Frome",
                                    "2": "1",
                                    "3": "11643"
                                },
                                {
                                    "0": "Edith Wharton",
                                    "1": "Ethan Frome",
                                    "2": "2",
                                    "3": "11643"
                                },
                                {
                                    "0": "Edith Wharton",
                                    "1": "Ethan Frome",
                                    "2": "3",
                                    "3": "11643"
                                },
                                {
                                    "0": "Edith Wharton",
                                    "1": "Ethan Frome",
                                    "2": "4",
                                    "3": "11643"
                                },
                                {
                                    "0": "Edith Wharton",
                                    "1": "Ethan Frome",
                                    "2": "5",
                                    "3": "11643"
                                },
                                {
                                    "0": "Edwidge Danticat",
                                    "1": "Breath, Eyes, Memory ",
                                    "2": "1",
                                    "3": "11643"
                                },
                                {
                                    "0": "Edwidge Danticat",
                                    "1": "Breath, Eyes, Memory ",
                                    "2": "2",
                                    "3": "11643"
                                },
                                {
                                    "0": "Edwidge Danticat",
                                    "1": "Breath, Eyes, Memory ",
                                    "2": "3",
                                    "3": "11643"
                                },
                                {
                                    "0": "Edwidge Danticat",
                                    "1": "Breath, Eyes, Memory ",
                                    "2": "4",
                                    "3": "11643"
                                },
                                {
                                    "0": "Edwidge Danticat",
                                    "1": "Breath, Eyes, Memory ",
                                    "2": "5",
                                    "3": "11643"
                                },
                                {
                                    "0": "Emily Brontë, Richard J. Dunn",
                                    "1": "Wuthering Heights",
                                    "2": "2",
                                    "3": "11643"
                                },
                                {
                                    "0": "Emily Brontë, Richard J. Dunn",
                                    "1": "Wuthering Heights",
                                    "2": "3",
                                    "3": "11643"
                                },
                                {
                                    "0": "Emily Brontë, Richard J. Dunn",
                                    "1": "Wuthering Heights",
                                    "2": "4",
                                    "3": "11643"
                                },
                                {
                                    "0": "Emily Brontë, Richard J. Dunn",
                                    "1": "Wuthering Heights",
                                    "2": "5",
                                    "3": "11643"
                                },
                                {
                                    "0": "Erica Jong",
                                    "1": "Fear of Flying",
                                    "2": "1",
                                    "3": "11643"
                                },
                                {
                                    "0": "Erica Jong",
                                    "1": "Fear of Flying",
                                    "2": "2",
                                    "3": "11643"
                                },
                                {
                                    "0": "Erica Jong",
                                    "1": "Fear of Flying",
                                    "2": "3",
                                    "3": "11643"
                                },
                                {
                                    "0": "Erica Jong",
                                    "1": "Fear of Flying",
                                    "2": "4",
                                    "3": "11643"
                                },
                                {
                                    "0": "Erica Jong",
                                    "1": "Fear of Flying",
                                    "2": "5",
                                    "3": "11643"
                                },
                                {
                                    "0": "Fannie Flagg",
                                    "1": "Fried Green Tomatoes at the Whistle Stop Cafe",
                                    "2": "1",
                                    "3": "11643"
                                },
                                {
                                    "0": "Fannie Flagg",
                                    "1": "Fried Green Tomatoes at the Whistle Stop Cafe",
                                    "2": "2",
                                    "3": "11643"
                                },
                                {
                                    "0": "Fannie Flagg",
                                    "1": "Fried Green Tomatoes at the Whistle Stop Cafe",
                                    "2": "3",
                                    "3": "11643"
                                },
                                {
                                    "0": "Fannie Flagg",
                                    "1": "Fried Green Tomatoes at the Whistle Stop Cafe",
                                    "2": "4",
                                    "3": "11643"
                                },
                                {
                                    "0": "Fannie Flagg",
                                    "1": "Fried Green Tomatoes at the Whistle Stop Cafe",
                                    "2": "5",
                                    "3": "11643"
                                },
                                {
                                    "0": "George Eliot, Edmund White",
                                    "1": "Daniel Deronda",
                                    "2": "1",
                                    "3": "11643"
                                },
                                {
                                    "0": "George Eliot, Edmund White",
                                    "1": "Daniel Deronda",
                                    "2": "2",
                                    "3": "11643"
                                },
                                {
                                    "0": "George Eliot, Edmund White",
                                    "1": "Daniel Deronda",
                                    "2": "3",
                                    "3": "11643"
                                },
                                {
                                    "0": "George Eliot, Edmund White",
                                    "1": "Daniel Deronda",
                                    "2": "4",
                                    "3": "11643"
                                },
                                {
                                    "0": "George Eliot, Edmund White",
                                    "1": "Daniel Deronda",
                                    "2": "5",
                                    "3": "11643"
                                },
                                {
                                    "0": "Geraldine Brooks",
                                    "1": "Year of Wonders: A Novel of the Plague",
                                    "2": "1",
                                    "3": "11643"
                                },
                                {
                                    "0": "Geraldine Brooks",
                                    "1": "Year of Wonders: A Novel of the Plague",
                                    "2": "2",
                                    "3": "11643"
                                },
                                {
                                    "0": "Geraldine Brooks",
                                    "1": "Year of Wonders: A Novel of the Plague",
                                    "2": "3",
                                    "3": "11643"
                                },
                                {
                                    "0": "Geraldine Brooks",
                                    "1": "Year of Wonders: A Novel of the Plague",
                                    "2": "4",
                                    "3": "11643"
                                },
                                {
                                    "0": "Geraldine Brooks",
                                    "1": "Year of Wonders: A Novel of the Plague",
                                    "2": "5",
                                    "3": "11643"
                                },
                                {
                                    "0": "Helen Fielding",
                                    "1": "Olivia Joules And The Overactive Imagination",
                                    "2": "1",
                                    "3": "11643"
                                },
                                {
                                    "0": "Helen Fielding",
                                    "1": "Olivia Joules And The Overactive Imagination",
                                    "2": "2",
                                    "3": "11643"
                                },
                                {
                                    "0": "Helen Fielding",
                                    "1": "Olivia Joules And The Overactive Imagination",
                                    "2": "3",
                                    "3": "11643"
                                },
                                {
                                    "0": "Helen Fielding",
                                    "1": "Olivia Joules And The Overactive Imagination",
                                    "2": "4",
                                    "3": "11643"
                                },
                                {
                                    "0": "Helen Fielding",
                                    "1": "Olivia Joules And The Overactive Imagination",
                                    "2": "5",
                                    "3": "11643"
                                },
                                {
                                    "0": "Isabel Allende, Magda Bogin",
                                    "1": "La casa de los espíritus",
                                    "2": "1",
                                    "3": "11643"
                                },
                                {
                                    "0": "Isabel Allende, Magda Bogin",
                                    "1": "La casa de los espíritus",
                                    "2": "2",
                                    "3": "11643"
                                },
                                {
                                    "0": "Isabel Allende, Magda Bogin",
                                    "1": "La casa de los espíritus",
                                    "2": "3",
                                    "3": "11643"
                                },
                                {
                                    "0": "Isabel Allende, Magda Bogin",
                                    "1": "La casa de los espíritus",
                                    "2": "4",
                                    "3": "11643"
                                },
                                {
                                    "0": "Isabel Allende, Magda Bogin",
                                    "1": "La casa de los espíritus",
                                    "2": "5",
                                    "3": "11643"
                                },
                                {
                                    "0": "Isabel Allende, Margaret Sayers Peden",
                                    "1": "La ciudad de las bestias",
                                    "2": "2",
                                    "3": "11643"
                                },
                                {
                                    "0": "Isabel Allende, Margaret Sayers Peden",
                                    "1": "La ciudad de las bestias",
                                    "2": "3",
                                    "3": "11643"
                                },
                                {
                                    "0": "Isabel Allende, Margaret Sayers Peden",
                                    "1": "La ciudad de las bestias",
                                    "2": "4",
                                    "3": "11643"
                                },
                                {
                                    "0": "Isabel Allende, Margaret Sayers Peden",
                                    "1": "La ciudad de las bestias",
                                    "2": "5",
                                    "3": "11643"
                                },
                                {
                                    "0": "J.K. Rowling",
                                    "1": "NULL",
                                    "2": "2",
                                    "3": "11643"
                                },
                                {
                                    "0": "J.K. Rowling",
                                    "1": "NULL",
                                    "2": "3",
                                    "3": "11643"
                                },
                                {
                                    "0": "J.K. Rowling",
                                    "1": "NULL",
                                    "2": "4",
                                    "3": "11643"
                                },
                                {
                                    "0": "J.K. Rowling",
                                    "1": "NULL",
                                    "2": "5",
                                    "3": "11643"
                                },
                                {
                                    "0": "J.K. Rowling, Mary GrandPré",
                                    "1": "Harry Potter and the Order of the Phoenix",
                                    "2": "1",
                                    "3": "11643"
                                },
                                {
                                    "0": "J.K. Rowling, Mary GrandPré",
                                    "1": "Harry Potter and the Order of the Phoenix",
                                    "2": "2",
                                    "3": "11643"
                                },
                                {
                                    "0": "J.K. Rowling, Mary GrandPré",
                                    "1": "Harry Potter and the Order of the Phoenix",
                                    "2": "3",
                                    "3": "11643"
                                },
                                {
                                    "0": "J.K. Rowling, Mary GrandPré",
                                    "1": "Harry Potter and the Order of the Phoenix",
                                    "2": "4",
                                    "3": "11643"
                                },
                                {
                                    "0": "J.K. Rowling, Mary GrandPré",
                                    "1": "Harry Potter and the Order of the Phoenix",
                                    "2": "5",
                                    "3": "11643"
                                },
                                {
                                    "0": "Jacqueline Winspear",
                                    "1": "Messenger of Truth",
                                    "2": "1",
                                    "3": "11643"
                                },
                                {
                                    "0": "Jacqueline Winspear",
                                    "1": "Messenger of Truth",
                                    "2": "2",
                                    "3": "11643"
                                },
                                {
                                    "0": "Jacqueline Winspear",
                                    "1": "Messenger of Truth",
                                    "2": "3",
                                    "3": "11643"
                                },
                                {
                                    "0": "Jacqueline Winspear",
                                    "1": "Messenger of Truth",
                                    "2": "4",
                                    "3": "11643"
                                },
                                {
                                    "0": "Jacqueline Winspear",
                                    "1": "Messenger of Truth",
                                    "2": "5",
                                    "3": "11643"
                                },
                                {
                                    "0": "Jane Austen, Fiona Stafford",
                                    "1": "Emma",
                                    "2": "1",
                                    "3": "11643"
                                },
                                {
                                    "0": "Jane Austen, Fiona Stafford",
                                    "1": "Emma",
                                    "2": "2",
                                    "3": "11643"
                                },
                                {
                                    "0": "Jane Austen, Fiona Stafford",
                                    "1": "Emma",
                                    "2": "3",
                                    "3": "11643"
                                },
                                {
                                    "0": "Jane Austen, Fiona Stafford",
                                    "1": "Emma",
                                    "2": "4",
                                    "3": "11643"
                                },
                                {
                                    "0": "Jane Austen, Fiona Stafford",
                                    "1": "Emma",
                                    "2": "5",
                                    "3": "11643"
                                },
                                {
                                    "0": "Jane Austen, James Kinsley, Deidre Shauna Lynch",
                                    "1": "Persuasion",
                                    "2": "1",
                                    "3": "11643"
                                },
                                {
                                    "0": "Jane Austen, James Kinsley, Deidre Shauna Lynch",
                                    "1": "Persuasion",
                                    "2": "2",
                                    "3": "11643"
                                },
                                {
                                    "0": "Jane Austen, James Kinsley, Deidre Shauna Lynch",
                                    "1": "Persuasion",
                                    "2": "3",
                                    "3": "11643"
                                },
                                {
                                    "0": "Jane Austen, James Kinsley, Deidre Shauna Lynch",
                                    "1": "Persuasion",
                                    "2": "4",
                                    "3": "11643"
                                },
                                {
                                    "0": "Jane Austen, James Kinsley, Deidre Shauna Lynch",
                                    "1": "Persuasion",
                                    "2": "5",
                                    "3": "11643"
                                },
                                {
                                    "0": "Jean M. Auel",
                                    "1": "The Clan of the Cave Bear",
                                    "2": "1",
                                    "3": "11643"
                                },
                                {
                                    "0": "Jean M. Auel",
                                    "1": "The Clan of the Cave Bear",
                                    "2": "2",
                                    "3": "11643"
                                },
                                {
                                    "0": "Jean M. Auel",
                                    "1": "The Clan of the Cave Bear",
                                    "2": "3",
                                    "3": "11643"
                                },
                                {
                                    "0": "Jean M. Auel",
                                    "1": "The Clan of the Cave Bear",
                                    "2": "4",
                                    "3": "11643"
                                },
                                {
                                    "0": "Jean M. Auel",
                                    "1": "The Clan of the Cave Bear",
                                    "2": "5",
                                    "3": "11643"
                                },
                                {
                                    "0": "Jenna Jameson, Neil Strauss",
                                    "1": "How to Make Love Like a Porn Star: A Cautionary Tale",
                                    "2": "1",
                                    "3": "11643"
                                },
                                {
                                    "0": "Jenna Jameson, Neil Strauss",
                                    "1": "How to Make Love Like a Porn Star: A Cautionary Tale",
                                    "2": "2",
                                    "3": "11643"
                                },
                                {
                                    "0": "Jenna Jameson, Neil Strauss",
                                    "1": "How to Make Love Like a Porn Star: A Cautionary Tale",
                                    "2": "3",
                                    "3": "11643"
                                },
                                {
                                    "0": "Jenna Jameson, Neil Strauss",
                                    "1": "How to Make Love Like a Porn Star: A Cautionary Tale",
                                    "2": "4",
                                    "3": "11643"
                                },
                                {
                                    "0": "Jenna Jameson, Neil Strauss",
                                    "1": "How to Make Love Like a Porn Star: A Cautionary Tale",
                                    "2": "5",
                                    "3": "11643"
                                },
                                {
                                    "0": "Jhumpa Lahiri",
                                    "1": "Interpreter of Maladies",
                                    "2": "1",
                                    "3": "11643"
                                },
                                {
                                    "0": "Jhumpa Lahiri",
                                    "1": "Interpreter of Maladies",
                                    "2": "2",
                                    "3": "11643"
                                },
                                {
                                    "0": "Jhumpa Lahiri",
                                    "1": "Interpreter of Maladies",
                                    "2": "3",
                                    "3": "11643"
                                },
                                {
                                    "0": "Jhumpa Lahiri",
                                    "1": "Interpreter of Maladies",
                                    "2": "4",
                                    "3": "11643"
                                },
                                {
                                    "0": "Jhumpa Lahiri",
                                    "1": "Interpreter of Maladies",
                                    "2": "5",
                                    "3": "11643"
                                },
                                {
                                    "0": "Joan Didion",
                                    "1": "Slouching Towards Bethlehem: Essays",
                                    "2": "1",
                                    "3": "11643"
                                },
                                {
                                    "0": "Joan Didion",
                                    "1": "Slouching Towards Bethlehem: Essays",
                                    "2": "2",
                                    "3": "11643"
                                },
                                {
                                    "0": "Joan Didion",
                                    "1": "Slouching Towards Bethlehem: Essays",
                                    "2": "3",
                                    "3": "11643"
                                },
                                {
                                    "0": "Joan Didion",
                                    "1": "Slouching Towards Bethlehem: Essays",
                                    "2": "4",
                                    "3": "11643"
                                },
                                {
                                    "0": "Joan Didion",
                                    "1": "Slouching Towards Bethlehem: Essays",
                                    "2": "5",
                                    "3": "11643"
                                },
                                {
                                    "0": "Joan Didion",
                                    "1": "The Year of Magical Thinking",
                                    "2": "1",
                                    "3": "11643"
                                },
                                {
                                    "0": "Joan Didion",
                                    "1": "The Year of Magical Thinking",
                                    "2": "2",
                                    "3": "11643"
                                },
                                {
                                    "0": "Joan Didion",
                                    "1": "The Year of Magical Thinking",
                                    "2": "3",
                                    "3": "11643"
                                },
                                {
                                    "0": "Joan Didion",
                                    "1": "The Year of Magical Thinking",
                                    "2": "4",
                                    "3": "11643"
                                },
                                {
                                    "0": "Joan Didion",
                                    "1": "The Year of Magical Thinking",
                                    "2": "5",
                                    "3": "11643"
                                },
                                {
                                    "0": "Joan Didion, David Thomson",
                                    "1": "Play It as It Lays",
                                    "2": "2",
                                    "3": "11643"
                                },
                                {
                                    "0": "Joan Didion, David Thomson",
                                    "1": "Play It as It Lays",
                                    "2": "3",
                                    "3": "11643"
                                },
                                {
                                    "0": "Joan Didion, David Thomson",
                                    "1": "Play It as It Lays",
                                    "2": "4",
                                    "3": "11643"
                                },
                                {
                                    "0": "Joan Didion, David Thomson",
                                    "1": "Play It as It Lays",
                                    "2": "5",
                                    "3": "11643"
                                },
                                {
                                    "0": "Johanna Spyri, Angelo  Rinaldi, Beverly Cleary",
                                    "1": "Heidi",
                                    "2": "1",
                                    "3": "11643"
                                },
                                {
                                    "0": "Johanna Spyri, Angelo  Rinaldi, Beverly Cleary",
                                    "1": "Heidi",
                                    "2": "2",
                                    "3": "11643"
                                },
                                {
                                    "0": "Johanna Spyri, Angelo  Rinaldi, Beverly Cleary",
                                    "1": "Heidi",
                                    "2": "3",
                                    "3": "11643"
                                },
                                {
                                    "0": "Johanna Spyri, Angelo  Rinaldi, Beverly Cleary",
                                    "1": "Heidi",
                                    "2": "4",
                                    "3": "11643"
                                },
                                {
                                    "0": "Johanna Spyri, Angelo  Rinaldi, Beverly Cleary",
                                    "1": "Heidi",
                                    "2": "5",
                                    "3": "11643"
                                },
                                {
                                    "0": "Joyce Carol Oates",
                                    "1": "We Were the Mulvaneys",
                                    "2": "2",
                                    "3": "11643"
                                },
                                {
                                    "0": "Joyce Carol Oates",
                                    "1": "We Were the Mulvaneys",
                                    "2": "3",
                                    "3": "11643"
                                },
                                {
                                    "0": "Joyce Carol Oates",
                                    "1": "We Were the Mulvaneys",
                                    "2": "4",
                                    "3": "11643"
                                },
                                {
                                    "0": "Joyce Carol Oates",
                                    "1": "We Were the Mulvaneys",
                                    "2": "5",
                                    "3": "11643"
                                },
                                {
                                    "0": "Jung Chang",
                                    "1": "Wild Swans: Three Daughters of China",
                                    "2": "1",
                                    "3": "11643"
                                },
                                {
                                    "0": "Jung Chang",
                                    "1": "Wild Swans: Three Daughters of China",
                                    "2": "2",
                                    "3": "11643"
                                },
                                {
                                    "0": "Jung Chang",
                                    "1": "Wild Swans: Three Daughters of China",
                                    "2": "3",
                                    "3": "11643"
                                },
                                {
                                    "0": "Jung Chang",
                                    "1": "Wild Swans: Three Daughters of China",
                                    "2": "4",
                                    "3": "11643"
                                },
                                {
                                    "0": "Jung Chang",
                                    "1": "Wild Swans: Three Daughters of China",
                                    "2": "5",
                                    "3": "11643"
                                },
                                {
                                    "0": "Karen Armstrong",
                                    "1": "A History of God: The 4,000-Year Quest of Judaism, Christianity, and Islam",
                                    "2": "1",
                                    "3": "11643"
                                },
                                {
                                    "0": "Karen Armstrong",
                                    "1": "A History of God: The 4,000-Year Quest of Judaism, Christianity, and Islam",
                                    "2": "2",
                                    "3": "11643"
                                },
                                {
                                    "0": "Karen Armstrong",
                                    "1": "A History of God: The 4,000-Year Quest of Judaism, Christianity, and Islam",
                                    "2": "3",
                                    "3": "11643"
                                },
                                {
                                    "0": "Karen Armstrong",
                                    "1": "A History of God: The 4,000-Year Quest of Judaism, Christianity, and Islam",
                                    "2": "4",
                                    "3": "11643"
                                },
                                {
                                    "0": "Karen Armstrong",
                                    "1": "A History of God: The 4,000-Year Quest of Judaism, Christianity, and Islam",
                                    "2": "5",
                                    "3": "11643"
                                },
                                {
                                    "0": "Karen Joy Fowler",
                                    "1": "The Jane Austen Book Club",
                                    "2": "1",
                                    "3": "11643"
                                },
                                {
                                    "0": "Karen Joy Fowler",
                                    "1": "The Jane Austen Book Club",
                                    "2": "2",
                                    "3": "11643"
                                },
                                {
                                    "0": "Karen Joy Fowler",
                                    "1": "The Jane Austen Book Club",
                                    "2": "3",
                                    "3": "11643"
                                },
                                {
                                    "0": "Karen Joy Fowler",
                                    "1": "The Jane Austen Book Club",
                                    "2": "4",
                                    "3": "11643"
                                },
                                {
                                    "0": "Karen Joy Fowler",
                                    "1": "The Jane Austen Book Club",
                                    "2": "5",
                                    "3": "11643"
                                },
                                {
                                    "0": "Kathleen Winsor",
                                    "1": "Forever Amber",
                                    "2": "1",
                                    "3": "11643"
                                },
                                {
                                    "0": "Kathleen Winsor",
                                    "1": "Forever Amber",
                                    "2": "2",
                                    "3": "11643"
                                },
                                {
                                    "0": "Kathleen Winsor",
                                    "1": "Forever Amber",
                                    "2": "3",
                                    "3": "11643"
                                },
                                {
                                    "0": "Kathleen Winsor",
                                    "1": "Forever Amber",
                                    "2": "4",
                                    "3": "11643"
                                },
                                {
                                    "0": "Kathleen Winsor",
                                    "1": "Forever Amber",
                                    "2": "5",
                                    "3": "11643"
                                },
                                {
                                    "0": "L.M. Montgomery",
                                    "1": "Emily of New Moon",
                                    "2": "2",
                                    "3": "11643"
                                },
                                {
                                    "0": "L.M. Montgomery",
                                    "1": "Emily of New Moon",
                                    "2": "3",
                                    "3": "11643"
                                },
                                {
                                    "0": "L.M. Montgomery",
                                    "1": "Emily of New Moon",
                                    "2": "4",
                                    "3": "11643"
                                },
                                {
                                    "0": "L.M. Montgomery",
                                    "1": "Emily of New Moon",
                                    "2": "5",
                                    "3": "11643"
                                },
                                {
                                    "0": "Laura Ingalls Wilder, Garth Williams",
                                    "1": "NULL",
                                    "2": "1",
                                    "3": "11643"
                                },
                                {
                                    "0": "Laura Ingalls Wilder, Garth Williams",
                                    "1": "NULL",
                                    "2": "2",
                                    "3": "11643"
                                },
                                {
                                    "0": "Laura Ingalls Wilder, Garth Williams",
                                    "1": "NULL",
                                    "2": "3",
                                    "3": "11643"
                                },
                                {
                                    "0": "Laura Ingalls Wilder, Garth Williams",
                                    "1": "NULL",
                                    "2": "4",
                                    "3": "11643"
                                },
                                {
                                    "0": "Laura Ingalls Wilder, Garth Williams",
                                    "1": "NULL",
                                    "2": "5",
                                    "3": "11643"
                                },
                                {
                                    "0": "Laura Ingalls Wilder, Garth Williams",
                                    "1": "By the Shores of Silver Lake",
                                    "2": "1",
                                    "3": "11643"
                                },
                                {
                                    "0": "Laura Ingalls Wilder, Garth Williams",
                                    "1": "By the Shores of Silver Lake",
                                    "2": "2",
                                    "3": "11643"
                                },
                                {
                                    "0": "Laura Ingalls Wilder, Garth Williams",
                                    "1": "By the Shores of Silver Lake",
                                    "2": "3",
                                    "3": "11643"
                                },
                                {
                                    "0": "Laura Ingalls Wilder, Garth Williams",
                                    "1": "By the Shores of Silver Lake",
                                    "2": "4",
                                    "3": "11643"
                                },
                                {
                                    "0": "Laura Ingalls Wilder, Garth Williams",
                                    "1": "By the Shores of Silver Lake",
                                    "2": "5",
                                    "3": "11643"
                                },
                                {
                                    "0": "Laura Ingalls Wilder, Garth Williams",
                                    "1": "Farmer Boy",
                                    "2": "1",
                                    "3": "11643"
                                },
                                {
                                    "0": "Laura Ingalls Wilder, Garth Williams",
                                    "1": "Farmer Boy",
                                    "2": "2",
                                    "3": "11643"
                                },
                                {
                                    "0": "Laura Ingalls Wilder, Garth Williams",
                                    "1": "Farmer Boy",
                                    "2": "3",
                                    "3": "11643"
                                },
                                {
                                    "0": "Laura Ingalls Wilder, Garth Williams",
                                    "1": "Farmer Boy",
                                    "2": "4",
                                    "3": "11643"
                                },
                                {
                                    "0": "Laura Ingalls Wilder, Garth Williams",
                                    "1": "Farmer Boy",
                                    "2": "5",
                                    "3": "11643"
                                },
                                {
                                    "0": "Laura Ingalls Wilder, Garth Williams",
                                    "1": "Little House In The Big Woods",
                                    "2": "1",
                                    "3": "11643"
                                },
                                {
                                    "0": "Laura Ingalls Wilder, Garth Williams",
                                    "1": "Little House In The Big Woods",
                                    "2": "2",
                                    "3": "11643"
                                },
                                {
                                    "0": "Laura Ingalls Wilder, Garth Williams",
                                    "1": "Little House In The Big Woods",
                                    "2": "3",
                                    "3": "11643"
                                },
                                {
                                    "0": "Laura Ingalls Wilder, Garth Williams",
                                    "1": "Little House In The Big Woods",
                                    "2": "4",
                                    "3": "11643"
                                },
                                {
                                    "0": "Laura Ingalls Wilder, Garth Williams",
                                    "1": "Little House In The Big Woods",
                                    "2": "5",
                                    "3": "11643"
                                },
                                {
                                    "0": "Laura Ingalls Wilder, Garth Williams",
                                    "1": "Little Town on the Prairie",
                                    "2": "1",
                                    "3": "11643"
                                },
                                {
                                    "0": "Laura Ingalls Wilder, Garth Williams",
                                    "1": "Little Town on the Prairie",
                                    "2": "2",
                                    "3": "11643"
                                },
                                {
                                    "0": "Laura Ingalls Wilder, Garth Williams",
                                    "1": "Little Town on the Prairie",
                                    "2": "3",
                                    "3": "11643"
                                },
                                {
                                    "0": "Laura Ingalls Wilder, Garth Williams",
                                    "1": "Little Town on the Prairie",
                                    "2": "4",
                                    "3": "11643"
                                },
                                {
                                    "0": "Laura Ingalls Wilder, Garth Williams",
                                    "1": "Little Town on the Prairie",
                                    "2": "5",
                                    "3": "11643"
                                },
                                {
                                    "0": "Laura Ingalls Wilder, Garth Williams",
                                    "1": "The Long Winter (Little House, #6)",
                                    "2": "2",
                                    "3": "11643"
                                },
                                {
                                    "0": "Laura Ingalls Wilder, Garth Williams",
                                    "1": "The Long Winter (Little House, #6)",
                                    "2": "3",
                                    "3": "11643"
                                },
                                {
                                    "0": "Laura Ingalls Wilder, Garth Williams",
                                    "1": "The Long Winter (Little House, #6)",
                                    "2": "4",
                                    "3": "11643"
                                },
                                {
                                    "0": "Laura Ingalls Wilder, Garth Williams",
                                    "1": "The Long Winter (Little House, #6)",
                                    "2": "5",
                                    "3": "11643"
                                },
                                {
                                    "0": "Lauren Weisberger",
                                    "1": "The Devil Wears Prada",
                                    "2": "1",
                                    "3": "11643"
                                },
                                {
                                    "0": "Lauren Weisberger",
                                    "1": "The Devil Wears Prada",
                                    "2": "2",
                                    "3": "11643"
                                },
                                {
                                    "0": "Lauren Weisberger",
                                    "1": "The Devil Wears Prada",
                                    "2": "3",
                                    "3": "11643"
                                },
                                {
                                    "0": "Lauren Weisberger",
                                    "1": "The Devil Wears Prada",
                                    "2": "4",
                                    "3": "11643"
                                },
                                {
                                    "0": "Lauren Weisberger",
                                    "1": "The Devil Wears Prada",
                                    "2": "5",
                                    "3": "11643"
                                },
                                {
                                    "0": "Lisa See",
                                    "1": "Snow Flower and the Secret Fan",
                                    "2": "2",
                                    "3": "11643"
                                },
                                {
                                    "0": "Lisa See",
                                    "1": "Snow Flower and the Secret Fan",
                                    "2": "3",
                                    "3": "11643"
                                },
                                {
                                    "0": "Lisa See",
                                    "1": "Snow Flower and the Secret Fan",
                                    "2": "4",
                                    "3": "11643"
                                },
                                {
                                    "0": "Lisa See",
                                    "1": "Snow Flower and the Secret Fan",
                                    "2": "5",
                                    "3": "11643"
                                },
                                {
                                    "0": "Lois Lowry",
                                    "1": "The Giver",
                                    "2": "1",
                                    "3": "11643"
                                },
                                {
                                    "0": "Lois Lowry",
                                    "1": "The Giver",
                                    "2": "2",
                                    "3": "11643"
                                },
                                {
                                    "0": "Lois Lowry",
                                    "1": "The Giver",
                                    "2": "3",
                                    "3": "11643"
                                },
                                {
                                    "0": "Lois Lowry",
                                    "1": "The Giver",
                                    "2": "4",
                                    "3": "11643"
                                },
                                {
                                    "0": "Lois Lowry",
                                    "1": "The Giver",
                                    "2": "5",
                                    "3": "11643"
                                },
                                {
                                    "0": "Lorraine Hansberry",
                                    "1": "A Raisin in the Sun",
                                    "2": "1",
                                    "3": "11643"
                                },
                                {
                                    "0": "Lorraine Hansberry",
                                    "1": "A Raisin in the Sun",
                                    "2": "2",
                                    "3": "11643"
                                },
                                {
                                    "0": "Lorraine Hansberry",
                                    "1": "A Raisin in the Sun",
                                    "2": "3",
                                    "3": "11643"
                                },
                                {
                                    "0": "Lorraine Hansberry",
                                    "1": "A Raisin in the Sun",
                                    "2": "4",
                                    "3": "11643"
                                },
                                {
                                    "0": "Lorraine Hansberry",
                                    "1": "A Raisin in the Sun",
                                    "2": "5",
                                    "3": "11643"
                                },
                                {
                                    "0": "Loung Ung",
                                    "1": "First They Killed My Father: A Daughter of Cambodia Remembers ",
                                    "2": "2",
                                    "3": "11643"
                                },
                                {
                                    "0": "Loung Ung",
                                    "1": "First They Killed My Father: A Daughter of Cambodia Remembers ",
                                    "2": "3",
                                    "3": "11643"
                                },
                                {
                                    "0": "Loung Ung",
                                    "1": "First They Killed My Father: A Daughter of Cambodia Remembers ",
                                    "2": "4",
                                    "3": "11643"
                                },
                                {
                                    "0": "Loung Ung",
                                    "1": "First They Killed My Father: A Daughter of Cambodia Remembers ",
                                    "2": "5",
                                    "3": "11643"
                                },
                                {
                                    "0": "Lynne Truss",
                                    "1": "Eats, Shoots and Leaves",
                                    "2": "2",
                                    "3": "11643"
                                },
                                {
                                    "0": "Lynne Truss",
                                    "1": "Eats, Shoots and Leaves",
                                    "2": "3",
                                    "3": "11643"
                                },
                                {
                                    "0": "Lynne Truss",
                                    "1": "Eats, Shoots and Leaves",
                                    "2": "4",
                                    "3": "11643"
                                },
                                {
                                    "0": "Lynne Truss",
                                    "1": "Eats, Shoots and Leaves",
                                    "2": "5",
                                    "3": "11643"
                                },
                                {
                                    "0": "Maeve Binchy",
                                    "1": "Tara Road",
                                    "2": "2",
                                    "3": "11643"
                                },
                                {
                                    "0": "Maeve Binchy",
                                    "1": "Tara Road",
                                    "2": "3",
                                    "3": "11643"
                                },
                                {
                                    "0": "Maeve Binchy",
                                    "1": "Tara Road",
                                    "2": "4",
                                    "3": "11643"
                                },
                                {
                                    "0": "Maeve Binchy",
                                    "1": "Tara Road",
                                    "2": "5",
                                    "3": "11643"
                                },
                                {
                                    "0": "Margaret Weis, Tracy Hickman",
                                    "1": "Fire Sea",
                                    "2": "1",
                                    "3": "11643"
                                },
                                {
                                    "0": "Margaret Weis, Tracy Hickman",
                                    "1": "Fire Sea",
                                    "2": "2",
                                    "3": "11643"
                                },
                                {
                                    "0": "Margaret Weis, Tracy Hickman",
                                    "1": "Fire Sea",
                                    "2": "3",
                                    "3": "11643"
                                },
                                {
                                    "0": "Margaret Weis, Tracy Hickman",
                                    "1": "Fire Sea",
                                    "2": "4",
                                    "3": "11643"
                                },
                                {
                                    "0": "Margaret Weis, Tracy Hickman",
                                    "1": "Fire Sea",
                                    "2": "5",
                                    "3": "11643"
                                },
                                {
                                    "0": "Marguerite Duras, Barbara Bray, Maxine Hong Kingston",
                                    "1": "L'Amant",
                                    "2": "1",
                                    "3": "11643"
                                },
                                {
                                    "0": "Marguerite Duras, Barbara Bray, Maxine Hong Kingston",
                                    "1": "L'Amant",
                                    "2": "2",
                                    "3": "11643"
                                },
                                {
                                    "0": "Marguerite Duras, Barbara Bray, Maxine Hong Kingston",
                                    "1": "L'Amant",
                                    "2": "3",
                                    "3": "11643"
                                },
                                {
                                    "0": "Marguerite Duras, Barbara Bray, Maxine Hong Kingston",
                                    "1": "L'Amant",
                                    "2": "4",
                                    "3": "11643"
                                },
                                {
                                    "0": "Marguerite Duras, Barbara Bray, Maxine Hong Kingston",
                                    "1": "L'Amant",
                                    "2": "5",
                                    "3": "11643"
                                },
                                {
                                    "0": "Marian Keyes",
                                    "1": "Lucy Sullivan is Getting Married",
                                    "2": "2",
                                    "3": "11643"
                                },
                                {
                                    "0": "Marian Keyes",
                                    "1": "Lucy Sullivan is Getting Married",
                                    "2": "3",
                                    "3": "11643"
                                },
                                {
                                    "0": "Marian Keyes",
                                    "1": "Lucy Sullivan is Getting Married",
                                    "2": "4",
                                    "3": "11643"
                                },
                                {
                                    "0": "Marian Keyes",
                                    "1": "Lucy Sullivan is Getting Married",
                                    "2": "5",
                                    "3": "11643"
                                },
                                {
                                    "0": "Marian Keyes",
                                    "1": "Rachel's Holiday",
                                    "2": "2",
                                    "3": "11643"
                                },
                                {
                                    "0": "Marian Keyes",
                                    "1": "Rachel's Holiday",
                                    "2": "3",
                                    "3": "11643"
                                },
                                {
                                    "0": "Marian Keyes",
                                    "1": "Rachel's Holiday",
                                    "2": "4",
                                    "3": "11643"
                                },
                                {
                                    "0": "Marian Keyes",
                                    "1": "Rachel's Holiday",
                                    "2": "5",
                                    "3": "11643"
                                },
                                {
                                    "0": "Marisha Pessl",
                                    "1": "Special Topics in Calamity Physics",
                                    "2": "2",
                                    "3": "11643"
                                },
                                {
                                    "0": "Marisha Pessl",
                                    "1": "Special Topics in Calamity Physics",
                                    "2": "3",
                                    "3": "11643"
                                },
                                {
                                    "0": "Marisha Pessl",
                                    "1": "Special Topics in Calamity Physics",
                                    "2": "4",
                                    "3": "11643"
                                },
                                {
                                    "0": "Marisha Pessl",
                                    "1": "Special Topics in Calamity Physics",
                                    "2": "5",
                                    "3": "11643"
                                },
                                {
                                    "0": "Marjane Satrapi",
                                    "1": "NULL",
                                    "2": "2",
                                    "3": "11643"
                                },
                                {
                                    "0": "Marjane Satrapi",
                                    "1": "NULL",
                                    "2": "3",
                                    "3": "11643"
                                },
                                {
                                    "0": "Marjane Satrapi",
                                    "1": "NULL",
                                    "2": "4",
                                    "3": "11643"
                                },
                                {
                                    "0": "Marjane Satrapi",
                                    "1": "NULL",
                                    "2": "5",
                                    "3": "11643"
                                },
                                {
                                    "0": "Marjane Satrapi, Anjali Singh",
                                    "1": "NULL",
                                    "2": "1",
                                    "3": "11643"
                                },
                                {
                                    "0": "Marjane Satrapi, Anjali Singh",
                                    "1": "NULL",
                                    "2": "2",
                                    "3": "11643"
                                },
                                {
                                    "0": "Marjane Satrapi, Anjali Singh",
                                    "1": "NULL",
                                    "2": "3",
                                    "3": "11643"
                                },
                                {
                                    "0": "Marjane Satrapi, Anjali Singh",
                                    "1": "NULL",
                                    "2": "4",
                                    "3": "11643"
                                },
                                {
                                    "0": "Marjane Satrapi, Anjali Singh",
                                    "1": "NULL",
                                    "2": "5",
                                    "3": "11643"
                                },
                                {
                                    "0": "Marjane Satrapi, Anjali Singh",
                                    "1": "Persepolis 2 ",
                                    "2": "2",
                                    "3": "11643"
                                },
                                {
                                    "0": "Marjane Satrapi, Anjali Singh",
                                    "1": "Persepolis 2 ",
                                    "2": "3",
                                    "3": "11643"
                                },
                                {
                                    "0": "Marjane Satrapi, Anjali Singh",
                                    "1": "Persepolis 2 ",
                                    "2": "4",
                                    "3": "11643"
                                },
                                {
                                    "0": "Marjane Satrapi, Anjali Singh",
                                    "1": "Persepolis 2 ",
                                    "2": "5",
                                    "3": "11643"
                                },
                                {
                                    "0": "Marjane Satrapi, Mattias Ripa",
                                    "1": "Persepolis",
                                    "2": "1",
                                    "3": "11643"
                                },
                                {
                                    "0": "Marjane Satrapi, Mattias Ripa",
                                    "1": "Persepolis",
                                    "2": "2",
                                    "3": "11643"
                                },
                                {
                                    "0": "Marjane Satrapi, Mattias Ripa",
                                    "1": "Persepolis",
                                    "2": "3",
                                    "3": "11643"
                                },
                                {
                                    "0": "Marjane Satrapi, Mattias Ripa",
                                    "1": "Persepolis",
                                    "2": "4",
                                    "3": "11643"
                                },
                                {
                                    "0": "Marjane Satrapi, Mattias Ripa",
                                    "1": "Persepolis",
                                    "2": "5",
                                    "3": "11643"
                                },
                                {
                                    "0": "Mary Lawson",
                                    "1": "Crow Lake",
                                    "2": "1",
                                    "3": "11643"
                                },
                                {
                                    "0": "Mary Lawson",
                                    "1": "Crow Lake",
                                    "2": "2",
                                    "3": "11643"
                                },
                                {
                                    "0": "Mary Lawson",
                                    "1": "Crow Lake",
                                    "2": "3",
                                    "3": "11643"
                                },
                                {
                                    "0": "Mary Lawson",
                                    "1": "Crow Lake",
                                    "2": "4",
                                    "3": "11643"
                                },
                                {
                                    "0": "Mary Lawson",
                                    "1": "Crow Lake",
                                    "2": "5",
                                    "3": "11643"
                                },
                                {
                                    "0": "Maud Hart Lovelace, Lois Lenski",
                                    "1": "Betsy-Tacy",
                                    "2": "1",
                                    "3": "11643"
                                },
                                {
                                    "0": "Maud Hart Lovelace, Lois Lenski",
                                    "1": "Betsy-Tacy",
                                    "2": "2",
                                    "3": "11643"
                                },
                                {
                                    "0": "Maud Hart Lovelace, Lois Lenski",
                                    "1": "Betsy-Tacy",
                                    "2": "3",
                                    "3": "11643"
                                },
                                {
                                    "0": "Maud Hart Lovelace, Lois Lenski",
                                    "1": "Betsy-Tacy",
                                    "2": "4",
                                    "3": "11643"
                                },
                                {
                                    "0": "Maud Hart Lovelace, Lois Lenski",
                                    "1": "Betsy-Tacy",
                                    "2": "5",
                                    "3": "11643"
                                },
                                {
                                    "0": "Naomi Klein",
                                    "1": "No Logo",
                                    "2": "1",
                                    "3": "11643"
                                },
                                {
                                    "0": "Naomi Klein",
                                    "1": "No Logo",
                                    "2": "2",
                                    "3": "11643"
                                },
                                {
                                    "0": "Naomi Klein",
                                    "1": "No Logo",
                                    "2": "3",
                                    "3": "11643"
                                },
                                {
                                    "0": "Naomi Klein",
                                    "1": "No Logo",
                                    "2": "4",
                                    "3": "11643"
                                },
                                {
                                    "0": "Naomi Klein",
                                    "1": "No Logo",
                                    "2": "5",
                                    "3": "11643"
                                },
                                {
                                    "0": "Nicole Krauss",
                                    "1": "The History of Love",
                                    "2": "1",
                                    "3": "11643"
                                },
                                {
                                    "0": "Nicole Krauss",
                                    "1": "The History of Love",
                                    "2": "2",
                                    "3": "11643"
                                },
                                {
                                    "0": "Nicole Krauss",
                                    "1": "The History of Love",
                                    "2": "3",
                                    "3": "11643"
                                },
                                {
                                    "0": "Nicole Krauss",
                                    "1": "The History of Love",
                                    "2": "4",
                                    "3": "11643"
                                },
                                {
                                    "0": "Nicole Krauss",
                                    "1": "The History of Love",
                                    "2": "5",
                                    "3": "11643"
                                },
                                {
                                    "0": "Nora Ephron",
                                    "1": "I Feel Bad About My Neck: And Other Thoughts on Being a Woman",
                                    "2": "1",
                                    "3": "11643"
                                },
                                {
                                    "0": "Nora Ephron",
                                    "1": "I Feel Bad About My Neck: And Other Thoughts on Being a Woman",
                                    "2": "2",
                                    "3": "11643"
                                },
                                {
                                    "0": "Nora Ephron",
                                    "1": "I Feel Bad About My Neck: And Other Thoughts on Being a Woman",
                                    "2": "3",
                                    "3": "11643"
                                },
                                {
                                    "0": "Nora Ephron",
                                    "1": "I Feel Bad About My Neck: And Other Thoughts on Being a Woman",
                                    "2": "4",
                                    "3": "11643"
                                },
                                {
                                    "0": "Nora Ephron",
                                    "1": "I Feel Bad About My Neck: And Other Thoughts on Being a Woman",
                                    "2": "5",
                                    "3": "11643"
                                },
                                {
                                    "0": "P.D. James",
                                    "1": "Cover Her Face",
                                    "2": "1",
                                    "3": "11643"
                                },
                                {
                                    "0": "P.D. James",
                                    "1": "Cover Her Face",
                                    "2": "2",
                                    "3": "11643"
                                },
                                {
                                    "0": "P.D. James",
                                    "1": "Cover Her Face",
                                    "2": "3",
                                    "3": "11643"
                                },
                                {
                                    "0": "P.D. James",
                                    "1": "Cover Her Face",
                                    "2": "4",
                                    "3": "11643"
                                },
                                {
                                    "0": "P.D. James",
                                    "1": "Cover Her Face",
                                    "2": "5",
                                    "3": "11643"
                                },
                                {
                                    "0": "Pat Barker",
                                    "1": "Regeneration",
                                    "2": "1",
                                    "3": "11643"
                                },
                                {
                                    "0": "Pat Barker",
                                    "1": "Regeneration",
                                    "2": "2",
                                    "3": "11643"
                                },
                                {
                                    "0": "Pat Barker",
                                    "1": "Regeneration",
                                    "2": "3",
                                    "3": "11643"
                                },
                                {
                                    "0": "Pat Barker",
                                    "1": "Regeneration",
                                    "2": "4",
                                    "3": "11643"
                                },
                                {
                                    "0": "Pat Barker",
                                    "1": "Regeneration",
                                    "2": "5",
                                    "3": "11643"
                                },
                                {
                                    "0": "Patricia Cornwell",
                                    "1": "Cause of Death",
                                    "2": "1",
                                    "3": "11643"
                                },
                                {
                                    "0": "Patricia Cornwell",
                                    "1": "Cause of Death",
                                    "2": "2",
                                    "3": "11643"
                                },
                                {
                                    "0": "Patricia Cornwell",
                                    "1": "Cause of Death",
                                    "2": "3",
                                    "3": "11643"
                                },
                                {
                                    "0": "Patricia Cornwell",
                                    "1": "Cause of Death",
                                    "2": "4",
                                    "3": "11643"
                                },
                                {
                                    "0": "Patricia Cornwell",
                                    "1": "Cause of Death",
                                    "2": "5",
                                    "3": "11643"
                                },
                                {
                                    "0": "Patricia Cornwell",
                                    "1": "From Potter's Field",
                                    "2": "2",
                                    "3": "11643"
                                },
                                {
                                    "0": "Patricia Cornwell",
                                    "1": "From Potter's Field",
                                    "2": "3",
                                    "3": "11643"
                                },
                                {
                                    "0": "Patricia Cornwell",
                                    "1": "From Potter's Field",
                                    "2": "4",
                                    "3": "11643"
                                },
                                {
                                    "0": "Patricia Cornwell",
                                    "1": "From Potter's Field",
                                    "2": "5",
                                    "3": "11643"
                                },
                                {
                                    "0": "Patricia Cornwell",
                                    "1": "Point of Origin",
                                    "2": "1",
                                    "3": "11643"
                                },
                                {
                                    "0": "Patricia Cornwell",
                                    "1": "Point of Origin",
                                    "2": "2",
                                    "3": "11643"
                                },
                                {
                                    "0": "Patricia Cornwell",
                                    "1": "Point of Origin",
                                    "2": "3",
                                    "3": "11643"
                                },
                                {
                                    "0": "Patricia Cornwell",
                                    "1": "Point of Origin",
                                    "2": "4",
                                    "3": "11643"
                                },
                                {
                                    "0": "Patricia Cornwell",
                                    "1": "Point of Origin",
                                    "2": "5",
                                    "3": "11643"
                                },
                                {
                                    "0": "Patricia Cornwell",
                                    "1": "Post-Mortem:  A Mystery Introducing Dr. Kay Scarpetta",
                                    "2": "1",
                                    "3": "11643"
                                },
                                {
                                    "0": "Patricia Cornwell",
                                    "1": "Post-Mortem:  A Mystery Introducing Dr. Kay Scarpetta",
                                    "2": "2",
                                    "3": "11643"
                                },
                                {
                                    "0": "Patricia Cornwell",
                                    "1": "Post-Mortem:  A Mystery Introducing Dr. Kay Scarpetta",
                                    "2": "3",
                                    "3": "11643"
                                },
                                {
                                    "0": "Patricia Cornwell",
                                    "1": "Post-Mortem:  A Mystery Introducing Dr. Kay Scarpetta",
                                    "2": "4",
                                    "3": "11643"
                                },
                                {
                                    "0": "Patricia Cornwell",
                                    "1": "Post-Mortem:  A Mystery Introducing Dr. Kay Scarpetta",
                                    "2": "5",
                                    "3": "11643"
                                },
                                {
                                    "0": "Patricia Cornwell",
                                    "1": "The Body Farm",
                                    "2": "1",
                                    "3": "11643"
                                },
                                {
                                    "0": "Patricia Cornwell",
                                    "1": "The Body Farm",
                                    "2": "2",
                                    "3": "11643"
                                },
                                {
                                    "0": "Patricia Cornwell",
                                    "1": "The Body Farm",
                                    "2": "3",
                                    "3": "11643"
                                },
                                {
                                    "0": "Patricia Cornwell",
                                    "1": "The Body Farm",
                                    "2": "4",
                                    "3": "11643"
                                },
                                {
                                    "0": "Patricia Cornwell",
                                    "1": "The Body Farm",
                                    "2": "5",
                                    "3": "11643"
                                },
                                {
                                    "0": "Pearl S. Buck",
                                    "1": "The Good Earth",
                                    "2": "1",
                                    "3": "11643"
                                },
                                {
                                    "0": "Pearl S. Buck",
                                    "1": "The Good Earth",
                                    "2": "2",
                                    "3": "11643"
                                },
                                {
                                    "0": "Pearl S. Buck",
                                    "1": "The Good Earth",
                                    "2": "3",
                                    "3": "11643"
                                },
                                {
                                    "0": "Pearl S. Buck",
                                    "1": "The Good Earth",
                                    "2": "4",
                                    "3": "11643"
                                },
                                {
                                    "0": "Pearl S. Buck",
                                    "1": "The Good Earth",
                                    "2": "5",
                                    "3": "11643"
                                },
                                {
                                    "0": "Rebecca Wells",
                                    "1": "Little Altars Everywhere",
                                    "2": "1",
                                    "3": "11643"
                                },
                                {
                                    "0": "Rebecca Wells",
                                    "1": "Little Altars Everywhere",
                                    "2": "2",
                                    "3": "11643"
                                },
                                {
                                    "0": "Rebecca Wells",
                                    "1": "Little Altars Everywhere",
                                    "2": "3",
                                    "3": "11643"
                                },
                                {
                                    "0": "Rebecca Wells",
                                    "1": "Little Altars Everywhere",
                                    "2": "4",
                                    "3": "11643"
                                },
                                {
                                    "0": "Rebecca Wells",
                                    "1": "Little Altars Everywhere",
                                    "2": "5",
                                    "3": "11643"
                                },
                                {
                                    "0": "Robin McKinley",
                                    "1": "Deerskin",
                                    "2": "2",
                                    "3": "11643"
                                },
                                {
                                    "0": "Robin McKinley",
                                    "1": "Deerskin",
                                    "2": "3",
                                    "3": "11643"
                                },
                                {
                                    "0": "Robin McKinley",
                                    "1": "Deerskin",
                                    "2": "4",
                                    "3": "11643"
                                },
                                {
                                    "0": "Robin McKinley",
                                    "1": "Deerskin",
                                    "2": "5",
                                    "3": "11643"
                                },
                                {
                                    "0": "Robin McKinley",
                                    "1": "Rose Daughter",
                                    "2": "1",
                                    "3": "11643"
                                },
                                {
                                    "0": "Robin McKinley",
                                    "1": "Rose Daughter",
                                    "2": "2",
                                    "3": "11643"
                                },
                                {
                                    "0": "Robin McKinley",
                                    "1": "Rose Daughter",
                                    "2": "3",
                                    "3": "11643"
                                },
                                {
                                    "0": "Robin McKinley",
                                    "1": "Rose Daughter",
                                    "2": "4",
                                    "3": "11643"
                                },
                                {
                                    "0": "Robin McKinley",
                                    "1": "Rose Daughter",
                                    "2": "5",
                                    "3": "11643"
                                },
                                {
                                    "0": "Robin McKinley",
                                    "1": "Sunshine",
                                    "2": "1",
                                    "3": "11643"
                                },
                                {
                                    "0": "Robin McKinley",
                                    "1": "Sunshine",
                                    "2": "2",
                                    "3": "11643"
                                },
                                {
                                    "0": "Robin McKinley",
                                    "1": "Sunshine",
                                    "2": "3",
                                    "3": "11643"
                                },
                                {
                                    "0": "Robin McKinley",
                                    "1": "Sunshine",
                                    "2": "4",
                                    "3": "11643"
                                },
                                {
                                    "0": "Robin McKinley",
                                    "1": "Sunshine",
                                    "2": "5",
                                    "3": "11643"
                                },
                                {
                                    "0": "Sarah Vowell",
                                    "1": "Assassination Vacation",
                                    "2": "1",
                                    "3": "11643"
                                },
                                {
                                    "0": "Sarah Vowell",
                                    "1": "Assassination Vacation",
                                    "2": "2",
                                    "3": "11643"
                                },
                                {
                                    "0": "Sarah Vowell",
                                    "1": "Assassination Vacation",
                                    "2": "3",
                                    "3": "11643"
                                },
                                {
                                    "0": "Sarah Vowell",
                                    "1": "Assassination Vacation",
                                    "2": "4",
                                    "3": "11643"
                                },
                                {
                                    "0": "Sarah Vowell",
                                    "1": "Assassination Vacation",
                                    "2": "5",
                                    "3": "11643"
                                },
                                {
                                    "0": "Sena Jeter Naslund",
                                    "1": "NULL",
                                    "2": "1",
                                    "3": "11643"
                                },
                                {
                                    "0": "Sena Jeter Naslund",
                                    "1": "NULL",
                                    "2": "2",
                                    "3": "11643"
                                },
                                {
                                    "0": "Sena Jeter Naslund",
                                    "1": "NULL",
                                    "2": "3",
                                    "3": "11643"
                                },
                                {
                                    "0": "Sena Jeter Naslund",
                                    "1": "NULL",
                                    "2": "4",
                                    "3": "11643"
                                },
                                {
                                    "0": "Sena Jeter Naslund",
                                    "1": "NULL",
                                    "2": "5",
                                    "3": "11643"
                                },
                                {
                                    "0": "Toni Morrison",
                                    "1": "NULL",
                                    "2": "2",
                                    "3": "11643"
                                },
                                {
                                    "0": "Toni Morrison",
                                    "1": "NULL",
                                    "2": "3",
                                    "3": "11643"
                                },
                                {
                                    "0": "Toni Morrison",
                                    "1": "NULL",
                                    "2": "4",
                                    "3": "11643"
                                },
                                {
                                    "0": "Toni Morrison",
                                    "1": "NULL",
                                    "2": "5",
                                    "3": "11643"
                                },
                                {
                                    "0": "Toni Morrison",
                                    "1": "Beloved",
                                    "2": "1",
                                    "3": "11643"
                                },
                                {
                                    "0": "Toni Morrison",
                                    "1": "Beloved",
                                    "2": "2",
                                    "3": "11643"
                                },
                                {
                                    "0": "Toni Morrison",
                                    "1": "Beloved",
                                    "2": "3",
                                    "3": "11643"
                                },
                                {
                                    "0": "Toni Morrison",
                                    "1": "Beloved",
                                    "2": "4",
                                    "3": "11643"
                                },
                                {
                                    "0": "Toni Morrison",
                                    "1": "Beloved",
                                    "2": "5",
                                    "3": "11643"
                                },
                                {
                                    "0": "Tracy Chevalier",
                                    "1": "Falling Angels",
                                    "2": "1",
                                    "3": "11643"
                                },
                                {
                                    "0": "Tracy Chevalier",
                                    "1": "Falling Angels",
                                    "2": "2",
                                    "3": "11643"
                                },
                                {
                                    "0": "Tracy Chevalier",
                                    "1": "Falling Angels",
                                    "2": "3",
                                    "3": "11643"
                                },
                                {
                                    "0": "Tracy Chevalier",
                                    "1": "Falling Angels",
                                    "2": "4",
                                    "3": "11643"
                                },
                                {
                                    "0": "Tracy Chevalier",
                                    "1": "Falling Angels",
                                    "2": "5",
                                    "3": "11643"
                                },
                                {
                                    "0": "Tracy Chevalier",
                                    "1": "Girl with a Pearl Earring",
                                    "2": "3",
                                    "3": "11643"
                                },
                                {
                                    "0": "Tracy Chevalier",
                                    "1": "Girl with a Pearl Earring",
                                    "2": "4",
                                    "3": "11643"
                                },
                                {
                                    "0": "Tracy Chevalier",
                                    "1": "Girl with a Pearl Earring",
                                    "2": "5",
                                    "3": "11643"
                                },
                                {
                                    "0": "Zadie Smith",
                                    "1": "On Beauty",
                                    "2": "2",
                                    "3": "11643"
                                },
                                {
                                    "0": "Zadie Smith",
                                    "1": "On Beauty",
                                    "2": "3",
                                    "3": "11643"
                                },
                                {
                                    "0": "Zadie Smith",
                                    "1": "On Beauty",
                                    "2": "4",
                                    "3": "11643"
                                },
                                {
                                    "0": "Zadie Smith",
                                    "1": "On Beauty",
                                    "2": "5",
                                    "3": "11643"
                                },
                                {
                                    "0": "Zadie Smith",
                                    "1": "The Autograph Man",
                                    "2": "1",
                                    "3": "11643"
                                },
                                {
                                    "0": "Zadie Smith",
                                    "1": "The Autograph Man",
                                    "2": "2",
                                    "3": "11643"
                                },
                                {
                                    "0": "Zadie Smith",
                                    "1": "The Autograph Man",
                                    "2": "3",
                                    "3": "11643"
                                },
                                {
                                    "0": "Zadie Smith",
                                    "1": "The Autograph Man",
                                    "2": "4",
                                    "3": "11643"
                                },
                                {
                                    "0": "Zadie Smith",
                                    "1": "The Autograph Man",
                                    "2": "5",
                                    "3": "11643"
                                },
                                {
                                    "0": "Zadie Smith",
                                    "1": "White Teeth",
                                    "2": "1",
                                    "3": "11643"
                                },
                                {
                                    "0": "Zadie Smith",
                                    "1": "White Teeth",
                                    "2": "2",
                                    "3": "11643"
                                },
                                {
                                    "0": "Zadie Smith",
                                    "1": "White Teeth",
                                    "2": "3",
                                    "3": "11643"
                                },
                                {
                                    "0": "Zadie Smith",
                                    "1": "White Teeth",
                                    "2": "4",
                                    "3": "11643"
                                },
                                {
                                    "0": "Zadie Smith",
                                    "1": "White Teeth",
                                    "2": "5",
                                    "3": "11643"
                                }
                            ]
                        },
                        "text/html": [
                            "<table>",
                            "<tr><th>authors</th><th>original_title</th><th>rating</th><th>tag_id</th></tr>",
                            "<tr><td>Alice  Miller, Ruth Ward</td><td>Das Drama des begabten Kindes und die Suche nach dem wahren Selbst: eine Um- und Fortschreibung</td><td>2</td><td>11643</td></tr>",
                            "<tr><td>Alice  Miller, Ruth Ward</td><td>Das Drama des begabten Kindes und die Suche nach dem wahren Selbst: eine Um- und Fortschreibung</td><td>3</td><td>11643</td></tr>",
                            "<tr><td>Alice  Miller, Ruth Ward</td><td>Das Drama des begabten Kindes und die Suche nach dem wahren Selbst: eine Um- und Fortschreibung</td><td>4</td><td>11643</td></tr>",
                            "<tr><td>Alice  Miller, Ruth Ward</td><td>Das Drama des begabten Kindes und die Suche nach dem wahren Selbst: eine Um- und Fortschreibung</td><td>5</td><td>11643</td></tr>",
                            "<tr><td>Amy Sedaris</td><td>I Like You: Hospitality Under the Influence</td><td>1</td><td>11643</td></tr>",
                            "<tr><td>Amy Sedaris</td><td>I Like You: Hospitality Under the Influence</td><td>2</td><td>11643</td></tr>",
                            "<tr><td>Amy Sedaris</td><td>I Like You: Hospitality Under the Influence</td><td>3</td><td>11643</td></tr>",
                            "<tr><td>Amy Sedaris</td><td>I Like You: Hospitality Under the Influence</td><td>4</td><td>11643</td></tr>",
                            "<tr><td>Amy Sedaris</td><td>I Like You: Hospitality Under the Influence</td><td>5</td><td>11643</td></tr>",
                            "<tr><td>Amy Tan</td><td>The Joy Luck Club</td><td>1</td><td>11643</td></tr>",
                            "<tr><td>Amy Tan</td><td>The Joy Luck Club</td><td>2</td><td>11643</td></tr>",
                            "<tr><td>Amy Tan</td><td>The Joy Luck Club</td><td>3</td><td>11643</td></tr>",
                            "<tr><td>Amy Tan</td><td>The Joy Luck Club</td><td>4</td><td>11643</td></tr>",
                            "<tr><td>Amy Tan</td><td>The Joy Luck Club</td><td>5</td><td>11643</td></tr>",
                            "<tr><td>Anita Diamant</td><td>The Red Tent</td><td>1</td><td>11643</td></tr>",
                            "<tr><td>Anita Diamant</td><td>The Red Tent</td><td>2</td><td>11643</td></tr>",
                            "<tr><td>Anita Diamant</td><td>The Red Tent</td><td>3</td><td>11643</td></tr>",
                            "<tr><td>Anita Diamant</td><td>The Red Tent</td><td>4</td><td>11643</td></tr>",
                            "<tr><td>Anita Diamant</td><td>The Red Tent</td><td>5</td><td>11643</td></tr>",
                            "<tr><td>Annie Proulx</td><td>Brokeback Mountain</td><td>1</td><td>11643</td></tr>",
                            "<tr><td>Annie Proulx</td><td>Brokeback Mountain</td><td>2</td><td>11643</td></tr>",
                            "<tr><td>Annie Proulx</td><td>Brokeback Mountain</td><td>3</td><td>11643</td></tr>",
                            "<tr><td>Annie Proulx</td><td>Brokeback Mountain</td><td>4</td><td>11643</td></tr>",
                            "<tr><td>Annie Proulx</td><td>Brokeback Mountain</td><td>5</td><td>11643</td></tr>",
                            "<tr><td>Annie Proulx</td><td>The Shipping News</td><td>2</td><td>11643</td></tr>",
                            "<tr><td>Annie Proulx</td><td>The Shipping News</td><td>3</td><td>11643</td></tr>",
                            "<tr><td>Annie Proulx</td><td>The Shipping News</td><td>4</td><td>11643</td></tr>",
                            "<tr><td>Annie Proulx</td><td>The Shipping News</td><td>5</td><td>11643</td></tr>",
                            "<tr><td>Arundhati Roy</td><td>The God of Small Things</td><td>1</td><td>11643</td></tr>",
                            "<tr><td>Arundhati Roy</td><td>The God of Small Things</td><td>2</td><td>11643</td></tr>",
                            "<tr><td>Arundhati Roy</td><td>The God of Small Things</td><td>3</td><td>11643</td></tr>",
                            "<tr><td>Arundhati Roy</td><td>The God of Small Things</td><td>4</td><td>11643</td></tr>",
                            "<tr><td>Arundhati Roy</td><td>The God of Small Things</td><td>5</td><td>11643</td></tr>",
                            "<tr><td>Åsne Seierstad, Ingrid Christopherson</td><td>Bokhandleren i Kabul</td><td>2</td><td>11643</td></tr>",
                            "<tr><td>Åsne Seierstad, Ingrid Christopherson</td><td>Bokhandleren i Kabul</td><td>3</td><td>11643</td></tr>",
                            "<tr><td>Åsne Seierstad, Ingrid Christopherson</td><td>Bokhandleren i Kabul</td><td>4</td><td>11643</td></tr>",
                            "<tr><td>Åsne Seierstad, Ingrid Christopherson</td><td>Bokhandleren i Kabul</td><td>5</td><td>11643</td></tr>",
                            "<tr><td>Ayn Rand</td><td>Anthem</td><td>1</td><td>11643</td></tr>",
                            "<tr><td>Ayn Rand</td><td>Anthem</td><td>2</td><td>11643</td></tr>",
                            "<tr><td>Ayn Rand</td><td>Anthem</td><td>3</td><td>11643</td></tr>",
                            "<tr><td>Ayn Rand</td><td>Anthem</td><td>4</td><td>11643</td></tr>",
                            "<tr><td>Ayn Rand</td><td>Anthem</td><td>5</td><td>11643</td></tr>",
                            "<tr><td>Ayn Rand, Leonard Peikoff</td><td>We the Living</td><td>1</td><td>11643</td></tr>",
                            "<tr><td>Ayn Rand, Leonard Peikoff</td><td>We the Living</td><td>2</td><td>11643</td></tr>",
                            "<tr><td>Ayn Rand, Leonard Peikoff</td><td>We the Living</td><td>3</td><td>11643</td></tr>",
                            "<tr><td>Ayn Rand, Leonard Peikoff</td><td>We the Living</td><td>4</td><td>11643</td></tr>",
                            "<tr><td>Ayn Rand, Leonard Peikoff</td><td>We the Living</td><td>5</td><td>11643</td></tr>",
                            "<tr><td>Azar Nafisi</td><td>Reading Lolita in Tehran: A Memoir in Books</td><td>1</td><td>11643</td></tr>",
                            "<tr><td>Azar Nafisi</td><td>Reading Lolita in Tehran: A Memoir in Books</td><td>2</td><td>11643</td></tr>",
                            "<tr><td>Azar Nafisi</td><td>Reading Lolita in Tehran: A Memoir in Books</td><td>3</td><td>11643</td></tr>",
                            "<tr><td>Azar Nafisi</td><td>Reading Lolita in Tehran: A Memoir in Books</td><td>4</td><td>11643</td></tr>",
                            "<tr><td>Azar Nafisi</td><td>Reading Lolita in Tehran: A Memoir in Books</td><td>5</td><td>11643</td></tr>",
                            "<tr><td>Barbara Ehrenreich</td><td>Nickel and Dimed: On (Not) Getting By in America</td><td>1</td><td>11643</td></tr>",
                            "<tr><td>Barbara Ehrenreich</td><td>Nickel and Dimed: On (Not) Getting By in America</td><td>2</td><td>11643</td></tr>",
                            "<tr><td>Barbara Ehrenreich</td><td>Nickel and Dimed: On (Not) Getting By in America</td><td>3</td><td>11643</td></tr>",
                            "<tr><td>Barbara Ehrenreich</td><td>Nickel and Dimed: On (Not) Getting By in America</td><td>4</td><td>11643</td></tr>",
                            "<tr><td>Barbara Ehrenreich</td><td>Nickel and Dimed: On (Not) Getting By in America</td><td>5</td><td>11643</td></tr>",
                            "<tr><td>Barbara Kingsolver</td><td>The Poisonwood Bible</td><td>1</td><td>11643</td></tr>",
                            "<tr><td>Barbara Kingsolver</td><td>The Poisonwood Bible</td><td>2</td><td>11643</td></tr>",
                            "<tr><td>Barbara Kingsolver</td><td>The Poisonwood Bible</td><td>3</td><td>11643</td></tr>",
                            "<tr><td>Barbara Kingsolver</td><td>The Poisonwood Bible</td><td>4</td><td>11643</td></tr>",
                            "<tr><td>Barbara Kingsolver</td><td>The Poisonwood Bible</td><td>5</td><td>11643</td></tr>",
                            "<tr><td>Byron Katie, Stephen Mitchell</td><td>Loving What Is: Four Questions That Can Change Your Life</td><td>1</td><td>11643</td></tr>",
                            "<tr><td>Byron Katie, Stephen Mitchell</td><td>Loving What Is: Four Questions That Can Change Your Life</td><td>2</td><td>11643</td></tr>",
                            "<tr><td>Byron Katie, Stephen Mitchell</td><td>Loving What Is: Four Questions That Can Change Your Life</td><td>3</td><td>11643</td></tr>",
                            "<tr><td>Byron Katie, Stephen Mitchell</td><td>Loving What Is: Four Questions That Can Change Your Life</td><td>4</td><td>11643</td></tr>",
                            "<tr><td>Byron Katie, Stephen Mitchell</td><td>Loving What Is: Four Questions That Can Change Your Life</td><td>5</td><td>11643</td></tr>",
                            "<tr><td>Candace Bushnell</td><td>Four Blondes</td><td>1</td><td>11643</td></tr>",
                            "<tr><td>Candace Bushnell</td><td>Four Blondes</td><td>2</td><td>11643</td></tr>",
                            "<tr><td>Candace Bushnell</td><td>Four Blondes</td><td>3</td><td>11643</td></tr>",
                            "<tr><td>Candace Bushnell</td><td>Four Blondes</td><td>4</td><td>11643</td></tr>",
                            "<tr><td>Candace Bushnell</td><td>Four Blondes</td><td>5</td><td>11643</td></tr>",
                            "<tr><td>Candace Bushnell</td><td>Sex and the City</td><td>1</td><td>11643</td></tr>",
                            "<tr><td>Candace Bushnell</td><td>Sex and the City</td><td>3</td><td>11643</td></tr>",
                            "<tr><td>Candace Bushnell</td><td>Sex and the City</td><td>4</td><td>11643</td></tr>",
                            "<tr><td>Candace Bushnell</td><td>Sex and the City</td><td>5</td><td>11643</td></tr>",
                            "<tr><td>Christina Schwarz</td><td>Drowning Ruth</td><td>2</td><td>11643</td></tr>",
                            "<tr><td>Christina Schwarz</td><td>Drowning Ruth</td><td>3</td><td>11643</td></tr>",
                            "<tr><td>Christina Schwarz</td><td>Drowning Ruth</td><td>4</td><td>11643</td></tr>",
                            "<tr><td>Christina Schwarz</td><td>Drowning Ruth</td><td>5</td><td>11643</td></tr>",
                            "<tr><td>Claire Messud</td><td>The Emperor's Children</td><td>1</td><td>11643</td></tr>",
                            "<tr><td>Claire Messud</td><td>The Emperor's Children</td><td>2</td><td>11643</td></tr>",
                            "<tr><td>Claire Messud</td><td>The Emperor's Children</td><td>3</td><td>11643</td></tr>",
                            "<tr><td>Claire Messud</td><td>The Emperor's Children</td><td>4</td><td>11643</td></tr>",
                            "<tr><td>Claire Messud</td><td>The Emperor's Children</td><td>5</td><td>11643</td></tr>",
                            "<tr><td>Curtis Sittenfeld</td><td>Prep</td><td>1</td><td>11643</td></tr>",
                            "<tr><td>Curtis Sittenfeld</td><td>Prep</td><td>2</td><td>11643</td></tr>",
                            "<tr><td>Curtis Sittenfeld</td><td>Prep</td><td>3</td><td>11643</td></tr>",
                            "<tr><td>Curtis Sittenfeld</td><td>Prep</td><td>4</td><td>11643</td></tr>",
                            "<tr><td>Curtis Sittenfeld</td><td>Prep</td><td>5</td><td>11643</td></tr>",
                            "<tr><td>Dava Sobel, Neil Armstrong</td><td>Longitude</td><td>3</td><td>11643</td></tr>",
                            "<tr><td>Dava Sobel, Neil Armstrong</td><td>Longitude</td><td>4</td><td>11643</td></tr>",
                            "<tr><td>Dava Sobel, Neil Armstrong</td><td>Longitude</td><td>5</td><td>11643</td></tr>",
                            "<tr><td>Diana Wynne Jones</td><td>Howl's Moving Castle</td><td>1</td><td>11643</td></tr>",
                            "<tr><td>Diana Wynne Jones</td><td>Howl's Moving Castle</td><td>2</td><td>11643</td></tr>",
                            "<tr><td>Diana Wynne Jones</td><td>Howl's Moving Castle</td><td>3</td><td>11643</td></tr>",
                            "<tr><td>Diana Wynne Jones</td><td>Howl's Moving Castle</td><td>4</td><td>11643</td></tr>",
                            "<tr><td>Diana Wynne Jones</td><td>Howl's Moving Castle</td><td>5</td><td>11643</td></tr>",
                            "<tr><td>Edith Wharton</td><td>Ethan Frome</td><td>1</td><td>11643</td></tr>",
                            "<tr><td>Edith Wharton</td><td>Ethan Frome</td><td>2</td><td>11643</td></tr>",
                            "<tr><td>Edith Wharton</td><td>Ethan Frome</td><td>3</td><td>11643</td></tr>",
                            "<tr><td>Edith Wharton</td><td>Ethan Frome</td><td>4</td><td>11643</td></tr>",
                            "<tr><td>Edith Wharton</td><td>Ethan Frome</td><td>5</td><td>11643</td></tr>",
                            "<tr><td>Edwidge Danticat</td><td>Breath, Eyes, Memory </td><td>1</td><td>11643</td></tr>",
                            "<tr><td>Edwidge Danticat</td><td>Breath, Eyes, Memory </td><td>2</td><td>11643</td></tr>",
                            "<tr><td>Edwidge Danticat</td><td>Breath, Eyes, Memory </td><td>3</td><td>11643</td></tr>",
                            "<tr><td>Edwidge Danticat</td><td>Breath, Eyes, Memory </td><td>4</td><td>11643</td></tr>",
                            "<tr><td>Edwidge Danticat</td><td>Breath, Eyes, Memory </td><td>5</td><td>11643</td></tr>",
                            "<tr><td>Emily Brontë, Richard J. Dunn</td><td>Wuthering Heights</td><td>2</td><td>11643</td></tr>",
                            "<tr><td>Emily Brontë, Richard J. Dunn</td><td>Wuthering Heights</td><td>3</td><td>11643</td></tr>",
                            "<tr><td>Emily Brontë, Richard J. Dunn</td><td>Wuthering Heights</td><td>4</td><td>11643</td></tr>",
                            "<tr><td>Emily Brontë, Richard J. Dunn</td><td>Wuthering Heights</td><td>5</td><td>11643</td></tr>",
                            "<tr><td>Erica Jong</td><td>Fear of Flying</td><td>1</td><td>11643</td></tr>",
                            "<tr><td>Erica Jong</td><td>Fear of Flying</td><td>2</td><td>11643</td></tr>",
                            "<tr><td>Erica Jong</td><td>Fear of Flying</td><td>3</td><td>11643</td></tr>",
                            "<tr><td>Erica Jong</td><td>Fear of Flying</td><td>4</td><td>11643</td></tr>",
                            "<tr><td>Erica Jong</td><td>Fear of Flying</td><td>5</td><td>11643</td></tr>",
                            "<tr><td>Fannie Flagg</td><td>Fried Green Tomatoes at the Whistle Stop Cafe</td><td>1</td><td>11643</td></tr>",
                            "<tr><td>Fannie Flagg</td><td>Fried Green Tomatoes at the Whistle Stop Cafe</td><td>2</td><td>11643</td></tr>",
                            "<tr><td>Fannie Flagg</td><td>Fried Green Tomatoes at the Whistle Stop Cafe</td><td>3</td><td>11643</td></tr>",
                            "<tr><td>Fannie Flagg</td><td>Fried Green Tomatoes at the Whistle Stop Cafe</td><td>4</td><td>11643</td></tr>",
                            "<tr><td>Fannie Flagg</td><td>Fried Green Tomatoes at the Whistle Stop Cafe</td><td>5</td><td>11643</td></tr>",
                            "<tr><td>George Eliot, Edmund White</td><td>Daniel Deronda</td><td>1</td><td>11643</td></tr>",
                            "<tr><td>George Eliot, Edmund White</td><td>Daniel Deronda</td><td>2</td><td>11643</td></tr>",
                            "<tr><td>George Eliot, Edmund White</td><td>Daniel Deronda</td><td>3</td><td>11643</td></tr>",
                            "<tr><td>George Eliot, Edmund White</td><td>Daniel Deronda</td><td>4</td><td>11643</td></tr>",
                            "<tr><td>George Eliot, Edmund White</td><td>Daniel Deronda</td><td>5</td><td>11643</td></tr>",
                            "<tr><td>Geraldine Brooks</td><td>Year of Wonders: A Novel of the Plague</td><td>1</td><td>11643</td></tr>",
                            "<tr><td>Geraldine Brooks</td><td>Year of Wonders: A Novel of the Plague</td><td>2</td><td>11643</td></tr>",
                            "<tr><td>Geraldine Brooks</td><td>Year of Wonders: A Novel of the Plague</td><td>3</td><td>11643</td></tr>",
                            "<tr><td>Geraldine Brooks</td><td>Year of Wonders: A Novel of the Plague</td><td>4</td><td>11643</td></tr>",
                            "<tr><td>Geraldine Brooks</td><td>Year of Wonders: A Novel of the Plague</td><td>5</td><td>11643</td></tr>",
                            "<tr><td>Helen Fielding</td><td>Olivia Joules And The Overactive Imagination</td><td>1</td><td>11643</td></tr>",
                            "<tr><td>Helen Fielding</td><td>Olivia Joules And The Overactive Imagination</td><td>2</td><td>11643</td></tr>",
                            "<tr><td>Helen Fielding</td><td>Olivia Joules And The Overactive Imagination</td><td>3</td><td>11643</td></tr>",
                            "<tr><td>Helen Fielding</td><td>Olivia Joules And The Overactive Imagination</td><td>4</td><td>11643</td></tr>",
                            "<tr><td>Helen Fielding</td><td>Olivia Joules And The Overactive Imagination</td><td>5</td><td>11643</td></tr>",
                            "<tr><td>Isabel Allende, Magda Bogin</td><td>La casa de los espíritus</td><td>1</td><td>11643</td></tr>",
                            "<tr><td>Isabel Allende, Magda Bogin</td><td>La casa de los espíritus</td><td>2</td><td>11643</td></tr>",
                            "<tr><td>Isabel Allende, Magda Bogin</td><td>La casa de los espíritus</td><td>3</td><td>11643</td></tr>",
                            "<tr><td>Isabel Allende, Magda Bogin</td><td>La casa de los espíritus</td><td>4</td><td>11643</td></tr>",
                            "<tr><td>Isabel Allende, Magda Bogin</td><td>La casa de los espíritus</td><td>5</td><td>11643</td></tr>",
                            "<tr><td>Isabel Allende, Margaret Sayers Peden</td><td>La ciudad de las bestias</td><td>2</td><td>11643</td></tr>",
                            "<tr><td>Isabel Allende, Margaret Sayers Peden</td><td>La ciudad de las bestias</td><td>3</td><td>11643</td></tr>",
                            "<tr><td>Isabel Allende, Margaret Sayers Peden</td><td>La ciudad de las bestias</td><td>4</td><td>11643</td></tr>",
                            "<tr><td>Isabel Allende, Margaret Sayers Peden</td><td>La ciudad de las bestias</td><td>5</td><td>11643</td></tr>",
                            "<tr><td>J.K. Rowling</td><td>NULL</td><td>2</td><td>11643</td></tr>",
                            "<tr><td>J.K. Rowling</td><td>NULL</td><td>3</td><td>11643</td></tr>",
                            "<tr><td>J.K. Rowling</td><td>NULL</td><td>4</td><td>11643</td></tr>",
                            "<tr><td>J.K. Rowling</td><td>NULL</td><td>5</td><td>11643</td></tr>",
                            "<tr><td>J.K. Rowling, Mary GrandPré</td><td>Harry Potter and the Order of the Phoenix</td><td>1</td><td>11643</td></tr>",
                            "<tr><td>J.K. Rowling, Mary GrandPré</td><td>Harry Potter and the Order of the Phoenix</td><td>2</td><td>11643</td></tr>",
                            "<tr><td>J.K. Rowling, Mary GrandPré</td><td>Harry Potter and the Order of the Phoenix</td><td>3</td><td>11643</td></tr>",
                            "<tr><td>J.K. Rowling, Mary GrandPré</td><td>Harry Potter and the Order of the Phoenix</td><td>4</td><td>11643</td></tr>",
                            "<tr><td>J.K. Rowling, Mary GrandPré</td><td>Harry Potter and the Order of the Phoenix</td><td>5</td><td>11643</td></tr>",
                            "<tr><td>Jacqueline Winspear</td><td>Messenger of Truth</td><td>1</td><td>11643</td></tr>",
                            "<tr><td>Jacqueline Winspear</td><td>Messenger of Truth</td><td>2</td><td>11643</td></tr>",
                            "<tr><td>Jacqueline Winspear</td><td>Messenger of Truth</td><td>3</td><td>11643</td></tr>",
                            "<tr><td>Jacqueline Winspear</td><td>Messenger of Truth</td><td>4</td><td>11643</td></tr>",
                            "<tr><td>Jacqueline Winspear</td><td>Messenger of Truth</td><td>5</td><td>11643</td></tr>",
                            "<tr><td>Jane Austen, Fiona Stafford</td><td>Emma</td><td>1</td><td>11643</td></tr>",
                            "<tr><td>Jane Austen, Fiona Stafford</td><td>Emma</td><td>2</td><td>11643</td></tr>",
                            "<tr><td>Jane Austen, Fiona Stafford</td><td>Emma</td><td>3</td><td>11643</td></tr>",
                            "<tr><td>Jane Austen, Fiona Stafford</td><td>Emma</td><td>4</td><td>11643</td></tr>",
                            "<tr><td>Jane Austen, Fiona Stafford</td><td>Emma</td><td>5</td><td>11643</td></tr>",
                            "<tr><td>Jane Austen, James Kinsley, Deidre Shauna Lynch</td><td>Persuasion</td><td>1</td><td>11643</td></tr>",
                            "<tr><td>Jane Austen, James Kinsley, Deidre Shauna Lynch</td><td>Persuasion</td><td>2</td><td>11643</td></tr>",
                            "<tr><td>Jane Austen, James Kinsley, Deidre Shauna Lynch</td><td>Persuasion</td><td>3</td><td>11643</td></tr>",
                            "<tr><td>Jane Austen, James Kinsley, Deidre Shauna Lynch</td><td>Persuasion</td><td>4</td><td>11643</td></tr>",
                            "<tr><td>Jane Austen, James Kinsley, Deidre Shauna Lynch</td><td>Persuasion</td><td>5</td><td>11643</td></tr>",
                            "<tr><td>Jean M. Auel</td><td>The Clan of the Cave Bear</td><td>1</td><td>11643</td></tr>",
                            "<tr><td>Jean M. Auel</td><td>The Clan of the Cave Bear</td><td>2</td><td>11643</td></tr>",
                            "<tr><td>Jean M. Auel</td><td>The Clan of the Cave Bear</td><td>3</td><td>11643</td></tr>",
                            "<tr><td>Jean M. Auel</td><td>The Clan of the Cave Bear</td><td>4</td><td>11643</td></tr>",
                            "<tr><td>Jean M. Auel</td><td>The Clan of the Cave Bear</td><td>5</td><td>11643</td></tr>",
                            "<tr><td>Jenna Jameson, Neil Strauss</td><td>How to Make Love Like a Porn Star: A Cautionary Tale</td><td>1</td><td>11643</td></tr>",
                            "<tr><td>Jenna Jameson, Neil Strauss</td><td>How to Make Love Like a Porn Star: A Cautionary Tale</td><td>2</td><td>11643</td></tr>",
                            "<tr><td>Jenna Jameson, Neil Strauss</td><td>How to Make Love Like a Porn Star: A Cautionary Tale</td><td>3</td><td>11643</td></tr>",
                            "<tr><td>Jenna Jameson, Neil Strauss</td><td>How to Make Love Like a Porn Star: A Cautionary Tale</td><td>4</td><td>11643</td></tr>",
                            "<tr><td>Jenna Jameson, Neil Strauss</td><td>How to Make Love Like a Porn Star: A Cautionary Tale</td><td>5</td><td>11643</td></tr>",
                            "<tr><td>Jhumpa Lahiri</td><td>Interpreter of Maladies</td><td>1</td><td>11643</td></tr>",
                            "<tr><td>Jhumpa Lahiri</td><td>Interpreter of Maladies</td><td>2</td><td>11643</td></tr>",
                            "<tr><td>Jhumpa Lahiri</td><td>Interpreter of Maladies</td><td>3</td><td>11643</td></tr>",
                            "<tr><td>Jhumpa Lahiri</td><td>Interpreter of Maladies</td><td>4</td><td>11643</td></tr>",
                            "<tr><td>Jhumpa Lahiri</td><td>Interpreter of Maladies</td><td>5</td><td>11643</td></tr>",
                            "<tr><td>Joan Didion</td><td>Slouching Towards Bethlehem: Essays</td><td>1</td><td>11643</td></tr>",
                            "<tr><td>Joan Didion</td><td>Slouching Towards Bethlehem: Essays</td><td>2</td><td>11643</td></tr>",
                            "<tr><td>Joan Didion</td><td>Slouching Towards Bethlehem: Essays</td><td>3</td><td>11643</td></tr>",
                            "<tr><td>Joan Didion</td><td>Slouching Towards Bethlehem: Essays</td><td>4</td><td>11643</td></tr>",
                            "<tr><td>Joan Didion</td><td>Slouching Towards Bethlehem: Essays</td><td>5</td><td>11643</td></tr>",
                            "<tr><td>Joan Didion</td><td>The Year of Magical Thinking</td><td>1</td><td>11643</td></tr>",
                            "<tr><td>Joan Didion</td><td>The Year of Magical Thinking</td><td>2</td><td>11643</td></tr>",
                            "<tr><td>Joan Didion</td><td>The Year of Magical Thinking</td><td>3</td><td>11643</td></tr>",
                            "<tr><td>Joan Didion</td><td>The Year of Magical Thinking</td><td>4</td><td>11643</td></tr>",
                            "<tr><td>Joan Didion</td><td>The Year of Magical Thinking</td><td>5</td><td>11643</td></tr>",
                            "<tr><td>Joan Didion, David Thomson</td><td>Play It as It Lays</td><td>2</td><td>11643</td></tr>",
                            "<tr><td>Joan Didion, David Thomson</td><td>Play It as It Lays</td><td>3</td><td>11643</td></tr>",
                            "<tr><td>Joan Didion, David Thomson</td><td>Play It as It Lays</td><td>4</td><td>11643</td></tr>",
                            "<tr><td>Joan Didion, David Thomson</td><td>Play It as It Lays</td><td>5</td><td>11643</td></tr>",
                            "<tr><td>Johanna Spyri, Angelo  Rinaldi, Beverly Cleary</td><td>Heidi</td><td>1</td><td>11643</td></tr>",
                            "<tr><td>Johanna Spyri, Angelo  Rinaldi, Beverly Cleary</td><td>Heidi</td><td>2</td><td>11643</td></tr>",
                            "<tr><td>Johanna Spyri, Angelo  Rinaldi, Beverly Cleary</td><td>Heidi</td><td>3</td><td>11643</td></tr>",
                            "<tr><td>Johanna Spyri, Angelo  Rinaldi, Beverly Cleary</td><td>Heidi</td><td>4</td><td>11643</td></tr>",
                            "<tr><td>Johanna Spyri, Angelo  Rinaldi, Beverly Cleary</td><td>Heidi</td><td>5</td><td>11643</td></tr>",
                            "<tr><td>Joyce Carol Oates</td><td>We Were the Mulvaneys</td><td>2</td><td>11643</td></tr>",
                            "<tr><td>Joyce Carol Oates</td><td>We Were the Mulvaneys</td><td>3</td><td>11643</td></tr>",
                            "<tr><td>Joyce Carol Oates</td><td>We Were the Mulvaneys</td><td>4</td><td>11643</td></tr>",
                            "<tr><td>Joyce Carol Oates</td><td>We Were the Mulvaneys</td><td>5</td><td>11643</td></tr>",
                            "<tr><td>Jung Chang</td><td>Wild Swans: Three Daughters of China</td><td>1</td><td>11643</td></tr>",
                            "<tr><td>Jung Chang</td><td>Wild Swans: Three Daughters of China</td><td>2</td><td>11643</td></tr>",
                            "<tr><td>Jung Chang</td><td>Wild Swans: Three Daughters of China</td><td>3</td><td>11643</td></tr>",
                            "<tr><td>Jung Chang</td><td>Wild Swans: Three Daughters of China</td><td>4</td><td>11643</td></tr>",
                            "<tr><td>Jung Chang</td><td>Wild Swans: Three Daughters of China</td><td>5</td><td>11643</td></tr>",
                            "<tr><td>Karen Armstrong</td><td>A History of God: The 4,000-Year Quest of Judaism, Christianity, and Islam</td><td>1</td><td>11643</td></tr>",
                            "<tr><td>Karen Armstrong</td><td>A History of God: The 4,000-Year Quest of Judaism, Christianity, and Islam</td><td>2</td><td>11643</td></tr>",
                            "<tr><td>Karen Armstrong</td><td>A History of God: The 4,000-Year Quest of Judaism, Christianity, and Islam</td><td>3</td><td>11643</td></tr>",
                            "<tr><td>Karen Armstrong</td><td>A History of God: The 4,000-Year Quest of Judaism, Christianity, and Islam</td><td>4</td><td>11643</td></tr>",
                            "<tr><td>Karen Armstrong</td><td>A History of God: The 4,000-Year Quest of Judaism, Christianity, and Islam</td><td>5</td><td>11643</td></tr>",
                            "<tr><td>Karen Joy Fowler</td><td>The Jane Austen Book Club</td><td>1</td><td>11643</td></tr>",
                            "<tr><td>Karen Joy Fowler</td><td>The Jane Austen Book Club</td><td>2</td><td>11643</td></tr>",
                            "<tr><td>Karen Joy Fowler</td><td>The Jane Austen Book Club</td><td>3</td><td>11643</td></tr>",
                            "<tr><td>Karen Joy Fowler</td><td>The Jane Austen Book Club</td><td>4</td><td>11643</td></tr>",
                            "<tr><td>Karen Joy Fowler</td><td>The Jane Austen Book Club</td><td>5</td><td>11643</td></tr>",
                            "<tr><td>Kathleen Winsor</td><td>Forever Amber</td><td>1</td><td>11643</td></tr>",
                            "<tr><td>Kathleen Winsor</td><td>Forever Amber</td><td>2</td><td>11643</td></tr>",
                            "<tr><td>Kathleen Winsor</td><td>Forever Amber</td><td>3</td><td>11643</td></tr>",
                            "<tr><td>Kathleen Winsor</td><td>Forever Amber</td><td>4</td><td>11643</td></tr>",
                            "<tr><td>Kathleen Winsor</td><td>Forever Amber</td><td>5</td><td>11643</td></tr>",
                            "<tr><td>L.M. Montgomery</td><td>Emily of New Moon</td><td>2</td><td>11643</td></tr>",
                            "<tr><td>L.M. Montgomery</td><td>Emily of New Moon</td><td>3</td><td>11643</td></tr>",
                            "<tr><td>L.M. Montgomery</td><td>Emily of New Moon</td><td>4</td><td>11643</td></tr>",
                            "<tr><td>L.M. Montgomery</td><td>Emily of New Moon</td><td>5</td><td>11643</td></tr>",
                            "<tr><td>Laura Ingalls Wilder, Garth Williams</td><td>NULL</td><td>1</td><td>11643</td></tr>",
                            "<tr><td>Laura Ingalls Wilder, Garth Williams</td><td>NULL</td><td>2</td><td>11643</td></tr>",
                            "<tr><td>Laura Ingalls Wilder, Garth Williams</td><td>NULL</td><td>3</td><td>11643</td></tr>",
                            "<tr><td>Laura Ingalls Wilder, Garth Williams</td><td>NULL</td><td>4</td><td>11643</td></tr>",
                            "<tr><td>Laura Ingalls Wilder, Garth Williams</td><td>NULL</td><td>5</td><td>11643</td></tr>",
                            "<tr><td>Laura Ingalls Wilder, Garth Williams</td><td>By the Shores of Silver Lake</td><td>1</td><td>11643</td></tr>",
                            "<tr><td>Laura Ingalls Wilder, Garth Williams</td><td>By the Shores of Silver Lake</td><td>2</td><td>11643</td></tr>",
                            "<tr><td>Laura Ingalls Wilder, Garth Williams</td><td>By the Shores of Silver Lake</td><td>3</td><td>11643</td></tr>",
                            "<tr><td>Laura Ingalls Wilder, Garth Williams</td><td>By the Shores of Silver Lake</td><td>4</td><td>11643</td></tr>",
                            "<tr><td>Laura Ingalls Wilder, Garth Williams</td><td>By the Shores of Silver Lake</td><td>5</td><td>11643</td></tr>",
                            "<tr><td>Laura Ingalls Wilder, Garth Williams</td><td>Farmer Boy</td><td>1</td><td>11643</td></tr>",
                            "<tr><td>Laura Ingalls Wilder, Garth Williams</td><td>Farmer Boy</td><td>2</td><td>11643</td></tr>",
                            "<tr><td>Laura Ingalls Wilder, Garth Williams</td><td>Farmer Boy</td><td>3</td><td>11643</td></tr>",
                            "<tr><td>Laura Ingalls Wilder, Garth Williams</td><td>Farmer Boy</td><td>4</td><td>11643</td></tr>",
                            "<tr><td>Laura Ingalls Wilder, Garth Williams</td><td>Farmer Boy</td><td>5</td><td>11643</td></tr>",
                            "<tr><td>Laura Ingalls Wilder, Garth Williams</td><td>Little House In The Big Woods</td><td>1</td><td>11643</td></tr>",
                            "<tr><td>Laura Ingalls Wilder, Garth Williams</td><td>Little House In The Big Woods</td><td>2</td><td>11643</td></tr>",
                            "<tr><td>Laura Ingalls Wilder, Garth Williams</td><td>Little House In The Big Woods</td><td>3</td><td>11643</td></tr>",
                            "<tr><td>Laura Ingalls Wilder, Garth Williams</td><td>Little House In The Big Woods</td><td>4</td><td>11643</td></tr>",
                            "<tr><td>Laura Ingalls Wilder, Garth Williams</td><td>Little House In The Big Woods</td><td>5</td><td>11643</td></tr>",
                            "<tr><td>Laura Ingalls Wilder, Garth Williams</td><td>Little Town on the Prairie</td><td>1</td><td>11643</td></tr>",
                            "<tr><td>Laura Ingalls Wilder, Garth Williams</td><td>Little Town on the Prairie</td><td>2</td><td>11643</td></tr>",
                            "<tr><td>Laura Ingalls Wilder, Garth Williams</td><td>Little Town on the Prairie</td><td>3</td><td>11643</td></tr>",
                            "<tr><td>Laura Ingalls Wilder, Garth Williams</td><td>Little Town on the Prairie</td><td>4</td><td>11643</td></tr>",
                            "<tr><td>Laura Ingalls Wilder, Garth Williams</td><td>Little Town on the Prairie</td><td>5</td><td>11643</td></tr>",
                            "<tr><td>Laura Ingalls Wilder, Garth Williams</td><td>The Long Winter (Little House, #6)</td><td>2</td><td>11643</td></tr>",
                            "<tr><td>Laura Ingalls Wilder, Garth Williams</td><td>The Long Winter (Little House, #6)</td><td>3</td><td>11643</td></tr>",
                            "<tr><td>Laura Ingalls Wilder, Garth Williams</td><td>The Long Winter (Little House, #6)</td><td>4</td><td>11643</td></tr>",
                            "<tr><td>Laura Ingalls Wilder, Garth Williams</td><td>The Long Winter (Little House, #6)</td><td>5</td><td>11643</td></tr>",
                            "<tr><td>Lauren Weisberger</td><td>The Devil Wears Prada</td><td>1</td><td>11643</td></tr>",
                            "<tr><td>Lauren Weisberger</td><td>The Devil Wears Prada</td><td>2</td><td>11643</td></tr>",
                            "<tr><td>Lauren Weisberger</td><td>The Devil Wears Prada</td><td>3</td><td>11643</td></tr>",
                            "<tr><td>Lauren Weisberger</td><td>The Devil Wears Prada</td><td>4</td><td>11643</td></tr>",
                            "<tr><td>Lauren Weisberger</td><td>The Devil Wears Prada</td><td>5</td><td>11643</td></tr>",
                            "<tr><td>Lisa See</td><td>Snow Flower and the Secret Fan</td><td>2</td><td>11643</td></tr>",
                            "<tr><td>Lisa See</td><td>Snow Flower and the Secret Fan</td><td>3</td><td>11643</td></tr>",
                            "<tr><td>Lisa See</td><td>Snow Flower and the Secret Fan</td><td>4</td><td>11643</td></tr>",
                            "<tr><td>Lisa See</td><td>Snow Flower and the Secret Fan</td><td>5</td><td>11643</td></tr>",
                            "<tr><td>Lois Lowry</td><td>The Giver</td><td>1</td><td>11643</td></tr>",
                            "<tr><td>Lois Lowry</td><td>The Giver</td><td>2</td><td>11643</td></tr>",
                            "<tr><td>Lois Lowry</td><td>The Giver</td><td>3</td><td>11643</td></tr>",
                            "<tr><td>Lois Lowry</td><td>The Giver</td><td>4</td><td>11643</td></tr>",
                            "<tr><td>Lois Lowry</td><td>The Giver</td><td>5</td><td>11643</td></tr>",
                            "<tr><td>Lorraine Hansberry</td><td>A Raisin in the Sun</td><td>1</td><td>11643</td></tr>",
                            "<tr><td>Lorraine Hansberry</td><td>A Raisin in the Sun</td><td>2</td><td>11643</td></tr>",
                            "<tr><td>Lorraine Hansberry</td><td>A Raisin in the Sun</td><td>3</td><td>11643</td></tr>",
                            "<tr><td>Lorraine Hansberry</td><td>A Raisin in the Sun</td><td>4</td><td>11643</td></tr>",
                            "<tr><td>Lorraine Hansberry</td><td>A Raisin in the Sun</td><td>5</td><td>11643</td></tr>",
                            "<tr><td>Loung Ung</td><td>First They Killed My Father: A Daughter of Cambodia Remembers </td><td>2</td><td>11643</td></tr>",
                            "<tr><td>Loung Ung</td><td>First They Killed My Father: A Daughter of Cambodia Remembers </td><td>3</td><td>11643</td></tr>",
                            "<tr><td>Loung Ung</td><td>First They Killed My Father: A Daughter of Cambodia Remembers </td><td>4</td><td>11643</td></tr>",
                            "<tr><td>Loung Ung</td><td>First They Killed My Father: A Daughter of Cambodia Remembers </td><td>5</td><td>11643</td></tr>",
                            "<tr><td>Lynne Truss</td><td>Eats, Shoots and Leaves</td><td>2</td><td>11643</td></tr>",
                            "<tr><td>Lynne Truss</td><td>Eats, Shoots and Leaves</td><td>3</td><td>11643</td></tr>",
                            "<tr><td>Lynne Truss</td><td>Eats, Shoots and Leaves</td><td>4</td><td>11643</td></tr>",
                            "<tr><td>Lynne Truss</td><td>Eats, Shoots and Leaves</td><td>5</td><td>11643</td></tr>",
                            "<tr><td>Maeve Binchy</td><td>Tara Road</td><td>2</td><td>11643</td></tr>",
                            "<tr><td>Maeve Binchy</td><td>Tara Road</td><td>3</td><td>11643</td></tr>",
                            "<tr><td>Maeve Binchy</td><td>Tara Road</td><td>4</td><td>11643</td></tr>",
                            "<tr><td>Maeve Binchy</td><td>Tara Road</td><td>5</td><td>11643</td></tr>",
                            "<tr><td>Margaret Weis, Tracy Hickman</td><td>Fire Sea</td><td>1</td><td>11643</td></tr>",
                            "<tr><td>Margaret Weis, Tracy Hickman</td><td>Fire Sea</td><td>2</td><td>11643</td></tr>",
                            "<tr><td>Margaret Weis, Tracy Hickman</td><td>Fire Sea</td><td>3</td><td>11643</td></tr>",
                            "<tr><td>Margaret Weis, Tracy Hickman</td><td>Fire Sea</td><td>4</td><td>11643</td></tr>",
                            "<tr><td>Margaret Weis, Tracy Hickman</td><td>Fire Sea</td><td>5</td><td>11643</td></tr>",
                            "<tr><td>Marguerite Duras, Barbara Bray, Maxine Hong Kingston</td><td>L'Amant</td><td>1</td><td>11643</td></tr>",
                            "<tr><td>Marguerite Duras, Barbara Bray, Maxine Hong Kingston</td><td>L'Amant</td><td>2</td><td>11643</td></tr>",
                            "<tr><td>Marguerite Duras, Barbara Bray, Maxine Hong Kingston</td><td>L'Amant</td><td>3</td><td>11643</td></tr>",
                            "<tr><td>Marguerite Duras, Barbara Bray, Maxine Hong Kingston</td><td>L'Amant</td><td>4</td><td>11643</td></tr>",
                            "<tr><td>Marguerite Duras, Barbara Bray, Maxine Hong Kingston</td><td>L'Amant</td><td>5</td><td>11643</td></tr>",
                            "<tr><td>Marian Keyes</td><td>Lucy Sullivan is Getting Married</td><td>2</td><td>11643</td></tr>",
                            "<tr><td>Marian Keyes</td><td>Lucy Sullivan is Getting Married</td><td>3</td><td>11643</td></tr>",
                            "<tr><td>Marian Keyes</td><td>Lucy Sullivan is Getting Married</td><td>4</td><td>11643</td></tr>",
                            "<tr><td>Marian Keyes</td><td>Lucy Sullivan is Getting Married</td><td>5</td><td>11643</td></tr>",
                            "<tr><td>Marian Keyes</td><td>Rachel's Holiday</td><td>2</td><td>11643</td></tr>",
                            "<tr><td>Marian Keyes</td><td>Rachel's Holiday</td><td>3</td><td>11643</td></tr>",
                            "<tr><td>Marian Keyes</td><td>Rachel's Holiday</td><td>4</td><td>11643</td></tr>",
                            "<tr><td>Marian Keyes</td><td>Rachel's Holiday</td><td>5</td><td>11643</td></tr>",
                            "<tr><td>Marisha Pessl</td><td>Special Topics in Calamity Physics</td><td>2</td><td>11643</td></tr>",
                            "<tr><td>Marisha Pessl</td><td>Special Topics in Calamity Physics</td><td>3</td><td>11643</td></tr>",
                            "<tr><td>Marisha Pessl</td><td>Special Topics in Calamity Physics</td><td>4</td><td>11643</td></tr>",
                            "<tr><td>Marisha Pessl</td><td>Special Topics in Calamity Physics</td><td>5</td><td>11643</td></tr>",
                            "<tr><td>Marjane Satrapi</td><td>NULL</td><td>2</td><td>11643</td></tr>",
                            "<tr><td>Marjane Satrapi</td><td>NULL</td><td>3</td><td>11643</td></tr>",
                            "<tr><td>Marjane Satrapi</td><td>NULL</td><td>4</td><td>11643</td></tr>",
                            "<tr><td>Marjane Satrapi</td><td>NULL</td><td>5</td><td>11643</td></tr>",
                            "<tr><td>Marjane Satrapi, Anjali Singh</td><td>NULL</td><td>1</td><td>11643</td></tr>",
                            "<tr><td>Marjane Satrapi, Anjali Singh</td><td>NULL</td><td>2</td><td>11643</td></tr>",
                            "<tr><td>Marjane Satrapi, Anjali Singh</td><td>NULL</td><td>3</td><td>11643</td></tr>",
                            "<tr><td>Marjane Satrapi, Anjali Singh</td><td>NULL</td><td>4</td><td>11643</td></tr>",
                            "<tr><td>Marjane Satrapi, Anjali Singh</td><td>NULL</td><td>5</td><td>11643</td></tr>",
                            "<tr><td>Marjane Satrapi, Anjali Singh</td><td>Persepolis 2 </td><td>2</td><td>11643</td></tr>",
                            "<tr><td>Marjane Satrapi, Anjali Singh</td><td>Persepolis 2 </td><td>3</td><td>11643</td></tr>",
                            "<tr><td>Marjane Satrapi, Anjali Singh</td><td>Persepolis 2 </td><td>4</td><td>11643</td></tr>",
                            "<tr><td>Marjane Satrapi, Anjali Singh</td><td>Persepolis 2 </td><td>5</td><td>11643</td></tr>",
                            "<tr><td>Marjane Satrapi, Mattias Ripa</td><td>Persepolis</td><td>1</td><td>11643</td></tr>",
                            "<tr><td>Marjane Satrapi, Mattias Ripa</td><td>Persepolis</td><td>2</td><td>11643</td></tr>",
                            "<tr><td>Marjane Satrapi, Mattias Ripa</td><td>Persepolis</td><td>3</td><td>11643</td></tr>",
                            "<tr><td>Marjane Satrapi, Mattias Ripa</td><td>Persepolis</td><td>4</td><td>11643</td></tr>",
                            "<tr><td>Marjane Satrapi, Mattias Ripa</td><td>Persepolis</td><td>5</td><td>11643</td></tr>",
                            "<tr><td>Mary Lawson</td><td>Crow Lake</td><td>1</td><td>11643</td></tr>",
                            "<tr><td>Mary Lawson</td><td>Crow Lake</td><td>2</td><td>11643</td></tr>",
                            "<tr><td>Mary Lawson</td><td>Crow Lake</td><td>3</td><td>11643</td></tr>",
                            "<tr><td>Mary Lawson</td><td>Crow Lake</td><td>4</td><td>11643</td></tr>",
                            "<tr><td>Mary Lawson</td><td>Crow Lake</td><td>5</td><td>11643</td></tr>",
                            "<tr><td>Maud Hart Lovelace, Lois Lenski</td><td>Betsy-Tacy</td><td>1</td><td>11643</td></tr>",
                            "<tr><td>Maud Hart Lovelace, Lois Lenski</td><td>Betsy-Tacy</td><td>2</td><td>11643</td></tr>",
                            "<tr><td>Maud Hart Lovelace, Lois Lenski</td><td>Betsy-Tacy</td><td>3</td><td>11643</td></tr>",
                            "<tr><td>Maud Hart Lovelace, Lois Lenski</td><td>Betsy-Tacy</td><td>4</td><td>11643</td></tr>",
                            "<tr><td>Maud Hart Lovelace, Lois Lenski</td><td>Betsy-Tacy</td><td>5</td><td>11643</td></tr>",
                            "<tr><td>Naomi Klein</td><td>No Logo</td><td>1</td><td>11643</td></tr>",
                            "<tr><td>Naomi Klein</td><td>No Logo</td><td>2</td><td>11643</td></tr>",
                            "<tr><td>Naomi Klein</td><td>No Logo</td><td>3</td><td>11643</td></tr>",
                            "<tr><td>Naomi Klein</td><td>No Logo</td><td>4</td><td>11643</td></tr>",
                            "<tr><td>Naomi Klein</td><td>No Logo</td><td>5</td><td>11643</td></tr>",
                            "<tr><td>Nicole Krauss</td><td>The History of Love</td><td>1</td><td>11643</td></tr>",
                            "<tr><td>Nicole Krauss</td><td>The History of Love</td><td>2</td><td>11643</td></tr>",
                            "<tr><td>Nicole Krauss</td><td>The History of Love</td><td>3</td><td>11643</td></tr>",
                            "<tr><td>Nicole Krauss</td><td>The History of Love</td><td>4</td><td>11643</td></tr>",
                            "<tr><td>Nicole Krauss</td><td>The History of Love</td><td>5</td><td>11643</td></tr>",
                            "<tr><td>Nora Ephron</td><td>I Feel Bad About My Neck: And Other Thoughts on Being a Woman</td><td>1</td><td>11643</td></tr>",
                            "<tr><td>Nora Ephron</td><td>I Feel Bad About My Neck: And Other Thoughts on Being a Woman</td><td>2</td><td>11643</td></tr>",
                            "<tr><td>Nora Ephron</td><td>I Feel Bad About My Neck: And Other Thoughts on Being a Woman</td><td>3</td><td>11643</td></tr>",
                            "<tr><td>Nora Ephron</td><td>I Feel Bad About My Neck: And Other Thoughts on Being a Woman</td><td>4</td><td>11643</td></tr>",
                            "<tr><td>Nora Ephron</td><td>I Feel Bad About My Neck: And Other Thoughts on Being a Woman</td><td>5</td><td>11643</td></tr>",
                            "<tr><td>P.D. James</td><td>Cover Her Face</td><td>1</td><td>11643</td></tr>",
                            "<tr><td>P.D. James</td><td>Cover Her Face</td><td>2</td><td>11643</td></tr>",
                            "<tr><td>P.D. James</td><td>Cover Her Face</td><td>3</td><td>11643</td></tr>",
                            "<tr><td>P.D. James</td><td>Cover Her Face</td><td>4</td><td>11643</td></tr>",
                            "<tr><td>P.D. James</td><td>Cover Her Face</td><td>5</td><td>11643</td></tr>",
                            "<tr><td>Pat Barker</td><td>Regeneration</td><td>1</td><td>11643</td></tr>",
                            "<tr><td>Pat Barker</td><td>Regeneration</td><td>2</td><td>11643</td></tr>",
                            "<tr><td>Pat Barker</td><td>Regeneration</td><td>3</td><td>11643</td></tr>",
                            "<tr><td>Pat Barker</td><td>Regeneration</td><td>4</td><td>11643</td></tr>",
                            "<tr><td>Pat Barker</td><td>Regeneration</td><td>5</td><td>11643</td></tr>",
                            "<tr><td>Patricia Cornwell</td><td>Cause of Death</td><td>1</td><td>11643</td></tr>",
                            "<tr><td>Patricia Cornwell</td><td>Cause of Death</td><td>2</td><td>11643</td></tr>",
                            "<tr><td>Patricia Cornwell</td><td>Cause of Death</td><td>3</td><td>11643</td></tr>",
                            "<tr><td>Patricia Cornwell</td><td>Cause of Death</td><td>4</td><td>11643</td></tr>",
                            "<tr><td>Patricia Cornwell</td><td>Cause of Death</td><td>5</td><td>11643</td></tr>",
                            "<tr><td>Patricia Cornwell</td><td>From Potter's Field</td><td>2</td><td>11643</td></tr>",
                            "<tr><td>Patricia Cornwell</td><td>From Potter's Field</td><td>3</td><td>11643</td></tr>",
                            "<tr><td>Patricia Cornwell</td><td>From Potter's Field</td><td>4</td><td>11643</td></tr>",
                            "<tr><td>Patricia Cornwell</td><td>From Potter's Field</td><td>5</td><td>11643</td></tr>",
                            "<tr><td>Patricia Cornwell</td><td>Point of Origin</td><td>1</td><td>11643</td></tr>",
                            "<tr><td>Patricia Cornwell</td><td>Point of Origin</td><td>2</td><td>11643</td></tr>",
                            "<tr><td>Patricia Cornwell</td><td>Point of Origin</td><td>3</td><td>11643</td></tr>",
                            "<tr><td>Patricia Cornwell</td><td>Point of Origin</td><td>4</td><td>11643</td></tr>",
                            "<tr><td>Patricia Cornwell</td><td>Point of Origin</td><td>5</td><td>11643</td></tr>",
                            "<tr><td>Patricia Cornwell</td><td>Post-Mortem:  A Mystery Introducing Dr. Kay Scarpetta</td><td>1</td><td>11643</td></tr>",
                            "<tr><td>Patricia Cornwell</td><td>Post-Mortem:  A Mystery Introducing Dr. Kay Scarpetta</td><td>2</td><td>11643</td></tr>",
                            "<tr><td>Patricia Cornwell</td><td>Post-Mortem:  A Mystery Introducing Dr. Kay Scarpetta</td><td>3</td><td>11643</td></tr>",
                            "<tr><td>Patricia Cornwell</td><td>Post-Mortem:  A Mystery Introducing Dr. Kay Scarpetta</td><td>4</td><td>11643</td></tr>",
                            "<tr><td>Patricia Cornwell</td><td>Post-Mortem:  A Mystery Introducing Dr. Kay Scarpetta</td><td>5</td><td>11643</td></tr>",
                            "<tr><td>Patricia Cornwell</td><td>The Body Farm</td><td>1</td><td>11643</td></tr>",
                            "<tr><td>Patricia Cornwell</td><td>The Body Farm</td><td>2</td><td>11643</td></tr>",
                            "<tr><td>Patricia Cornwell</td><td>The Body Farm</td><td>3</td><td>11643</td></tr>",
                            "<tr><td>Patricia Cornwell</td><td>The Body Farm</td><td>4</td><td>11643</td></tr>",
                            "<tr><td>Patricia Cornwell</td><td>The Body Farm</td><td>5</td><td>11643</td></tr>",
                            "<tr><td>Pearl S. Buck</td><td>The Good Earth</td><td>1</td><td>11643</td></tr>",
                            "<tr><td>Pearl S. Buck</td><td>The Good Earth</td><td>2</td><td>11643</td></tr>",
                            "<tr><td>Pearl S. Buck</td><td>The Good Earth</td><td>3</td><td>11643</td></tr>",
                            "<tr><td>Pearl S. Buck</td><td>The Good Earth</td><td>4</td><td>11643</td></tr>",
                            "<tr><td>Pearl S. Buck</td><td>The Good Earth</td><td>5</td><td>11643</td></tr>",
                            "<tr><td>Rebecca Wells</td><td>Little Altars Everywhere</td><td>1</td><td>11643</td></tr>",
                            "<tr><td>Rebecca Wells</td><td>Little Altars Everywhere</td><td>2</td><td>11643</td></tr>",
                            "<tr><td>Rebecca Wells</td><td>Little Altars Everywhere</td><td>3</td><td>11643</td></tr>",
                            "<tr><td>Rebecca Wells</td><td>Little Altars Everywhere</td><td>4</td><td>11643</td></tr>",
                            "<tr><td>Rebecca Wells</td><td>Little Altars Everywhere</td><td>5</td><td>11643</td></tr>",
                            "<tr><td>Robin McKinley</td><td>Deerskin</td><td>2</td><td>11643</td></tr>",
                            "<tr><td>Robin McKinley</td><td>Deerskin</td><td>3</td><td>11643</td></tr>",
                            "<tr><td>Robin McKinley</td><td>Deerskin</td><td>4</td><td>11643</td></tr>",
                            "<tr><td>Robin McKinley</td><td>Deerskin</td><td>5</td><td>11643</td></tr>",
                            "<tr><td>Robin McKinley</td><td>Rose Daughter</td><td>1</td><td>11643</td></tr>",
                            "<tr><td>Robin McKinley</td><td>Rose Daughter</td><td>2</td><td>11643</td></tr>",
                            "<tr><td>Robin McKinley</td><td>Rose Daughter</td><td>3</td><td>11643</td></tr>",
                            "<tr><td>Robin McKinley</td><td>Rose Daughter</td><td>4</td><td>11643</td></tr>",
                            "<tr><td>Robin McKinley</td><td>Rose Daughter</td><td>5</td><td>11643</td></tr>",
                            "<tr><td>Robin McKinley</td><td>Sunshine</td><td>1</td><td>11643</td></tr>",
                            "<tr><td>Robin McKinley</td><td>Sunshine</td><td>2</td><td>11643</td></tr>",
                            "<tr><td>Robin McKinley</td><td>Sunshine</td><td>3</td><td>11643</td></tr>",
                            "<tr><td>Robin McKinley</td><td>Sunshine</td><td>4</td><td>11643</td></tr>",
                            "<tr><td>Robin McKinley</td><td>Sunshine</td><td>5</td><td>11643</td></tr>",
                            "<tr><td>Sarah Vowell</td><td>Assassination Vacation</td><td>1</td><td>11643</td></tr>",
                            "<tr><td>Sarah Vowell</td><td>Assassination Vacation</td><td>2</td><td>11643</td></tr>",
                            "<tr><td>Sarah Vowell</td><td>Assassination Vacation</td><td>3</td><td>11643</td></tr>",
                            "<tr><td>Sarah Vowell</td><td>Assassination Vacation</td><td>4</td><td>11643</td></tr>",
                            "<tr><td>Sarah Vowell</td><td>Assassination Vacation</td><td>5</td><td>11643</td></tr>",
                            "<tr><td>Sena Jeter Naslund</td><td>NULL</td><td>1</td><td>11643</td></tr>",
                            "<tr><td>Sena Jeter Naslund</td><td>NULL</td><td>2</td><td>11643</td></tr>",
                            "<tr><td>Sena Jeter Naslund</td><td>NULL</td><td>3</td><td>11643</td></tr>",
                            "<tr><td>Sena Jeter Naslund</td><td>NULL</td><td>4</td><td>11643</td></tr>",
                            "<tr><td>Sena Jeter Naslund</td><td>NULL</td><td>5</td><td>11643</td></tr>",
                            "<tr><td>Toni Morrison</td><td>NULL</td><td>2</td><td>11643</td></tr>",
                            "<tr><td>Toni Morrison</td><td>NULL</td><td>3</td><td>11643</td></tr>",
                            "<tr><td>Toni Morrison</td><td>NULL</td><td>4</td><td>11643</td></tr>",
                            "<tr><td>Toni Morrison</td><td>NULL</td><td>5</td><td>11643</td></tr>",
                            "<tr><td>Toni Morrison</td><td>Beloved</td><td>1</td><td>11643</td></tr>",
                            "<tr><td>Toni Morrison</td><td>Beloved</td><td>2</td><td>11643</td></tr>",
                            "<tr><td>Toni Morrison</td><td>Beloved</td><td>3</td><td>11643</td></tr>",
                            "<tr><td>Toni Morrison</td><td>Beloved</td><td>4</td><td>11643</td></tr>",
                            "<tr><td>Toni Morrison</td><td>Beloved</td><td>5</td><td>11643</td></tr>",
                            "<tr><td>Tracy Chevalier</td><td>Falling Angels</td><td>1</td><td>11643</td></tr>",
                            "<tr><td>Tracy Chevalier</td><td>Falling Angels</td><td>2</td><td>11643</td></tr>",
                            "<tr><td>Tracy Chevalier</td><td>Falling Angels</td><td>3</td><td>11643</td></tr>",
                            "<tr><td>Tracy Chevalier</td><td>Falling Angels</td><td>4</td><td>11643</td></tr>",
                            "<tr><td>Tracy Chevalier</td><td>Falling Angels</td><td>5</td><td>11643</td></tr>",
                            "<tr><td>Tracy Chevalier</td><td>Girl with a Pearl Earring</td><td>3</td><td>11643</td></tr>",
                            "<tr><td>Tracy Chevalier</td><td>Girl with a Pearl Earring</td><td>4</td><td>11643</td></tr>",
                            "<tr><td>Tracy Chevalier</td><td>Girl with a Pearl Earring</td><td>5</td><td>11643</td></tr>",
                            "<tr><td>Zadie Smith</td><td>On Beauty</td><td>2</td><td>11643</td></tr>",
                            "<tr><td>Zadie Smith</td><td>On Beauty</td><td>3</td><td>11643</td></tr>",
                            "<tr><td>Zadie Smith</td><td>On Beauty</td><td>4</td><td>11643</td></tr>",
                            "<tr><td>Zadie Smith</td><td>On Beauty</td><td>5</td><td>11643</td></tr>",
                            "<tr><td>Zadie Smith</td><td>The Autograph Man</td><td>1</td><td>11643</td></tr>",
                            "<tr><td>Zadie Smith</td><td>The Autograph Man</td><td>2</td><td>11643</td></tr>",
                            "<tr><td>Zadie Smith</td><td>The Autograph Man</td><td>3</td><td>11643</td></tr>",
                            "<tr><td>Zadie Smith</td><td>The Autograph Man</td><td>4</td><td>11643</td></tr>",
                            "<tr><td>Zadie Smith</td><td>The Autograph Man</td><td>5</td><td>11643</td></tr>",
                            "<tr><td>Zadie Smith</td><td>White Teeth</td><td>1</td><td>11643</td></tr>",
                            "<tr><td>Zadie Smith</td><td>White Teeth</td><td>2</td><td>11643</td></tr>",
                            "<tr><td>Zadie Smith</td><td>White Teeth</td><td>3</td><td>11643</td></tr>",
                            "<tr><td>Zadie Smith</td><td>White Teeth</td><td>4</td><td>11643</td></tr>",
                            "<tr><td>Zadie Smith</td><td>White Teeth</td><td>5</td><td>11643</td></tr>",
                            "</table>"
                        ]
                    }
                }
            ],
            "execution_count": 31
        },
        {
            "cell_type": "markdown",
            "source": [
                "### **Record your thoughts about why you wrote the query the way you did.**"
            ],
            "metadata": {
                "azdata_cell_guid": "1e19a72c-1bca-446b-a0c7-a8efbc35dcf1"
            },
            "attachments": {}
        },
        {
            "cell_type": "markdown",
            "source": [
                "# Part 2: Choose Another Month\n",
                "\n",
                "Choose another month and plan at least 2 events / promotions and answer the following questions.\n",
                "\n",
                "Which month did you choose?  \n",
                "\n",
                "What 2 events / promotions are you highlighting?\n",
                "\n",
                "> 1.\n",
                "\n",
                "> 2."
            ],
            "metadata": {
                "azdata_cell_guid": "3eaf376d-9de3-4553-a9d0-9caf74ee3d6a"
            },
            "attachments": {}
        },
        {
            "cell_type": "markdown",
            "source": [
                "# Part 3: Summarize your Work\n",
                "\n",
                "For each event write at least one query that joins any two tables in the BooksDB to support your choice and record you thoughts as to why you used the paticlular query. At least one of your queries needs to include a HAVING clause."
            ],
            "metadata": {
                "azdata_cell_guid": "1ba1363a-4f02-4962-a95a-93b80c5926b1"
            },
            "attachments": {}
        },
        {
            "cell_type": "code",
            "source": [
                "-- Event 1 Query"
            ],
            "metadata": {
                "azdata_cell_guid": "f50d32ce-4cb2-4af2-acb1-607777a76cf8",
                "language": "sql"
            },
            "outputs": [],
            "execution_count": null
        },
        {
            "cell_type": "code",
            "source": [
                ""
            ],
            "metadata": {
                "azdata_cell_guid": "5606f7f2-c46b-42d3-ac64-7ae21c3394f8",
                "language": "sql"
            },
            "outputs": [],
            "execution_count": null
        },
        {
            "cell_type": "markdown",
            "source": [
                "### **Summary of event 1:**\n",
                "\n",
                "Double Click to edit."
            ],
            "metadata": {
                "azdata_cell_guid": "3bc72d4c-077b-42d3-9528-9aff8e7b6cf3"
            },
            "attachments": {}
        },
        {
            "cell_type": "code",
            "source": [
                "-- Event 2 Query"
            ],
            "metadata": {
                "azdata_cell_guid": "dca0a98f-065f-4b0e-9d93-fcb01cad668c",
                "language": "sql"
            },
            "outputs": [],
            "execution_count": null
        },
        {
            "cell_type": "code",
            "source": [
                ""
            ],
            "metadata": {
                "azdata_cell_guid": "3aaae3a8-eff7-4b37-8970-2d913a67239b",
                "language": "sql"
            },
            "outputs": [],
            "execution_count": null
        },
        {
            "cell_type": "markdown",
            "source": [
                "### **Summary of event 2:**\n",
                "\n",
                "Double Click to edit."
            ],
            "metadata": {
                "azdata_cell_guid": "99d518dc-cd8b-42d6-9a9d-708771c9aa99"
            },
            "attachments": {}
        }
    ]
}